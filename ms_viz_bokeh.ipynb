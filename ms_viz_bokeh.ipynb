{
 "cells": [
  {
   "cell_type": "code",
   "execution_count": null,
   "metadata": {},
   "outputs": [],
   "source": []
  },
  {
   "cell_type": "code",
   "execution_count": 1,
   "metadata": {},
   "outputs": [],
   "source": [
    "import pandas as pd\n",
    "from bokeh.io import output_notebook\n",
    "from bokeh.plotting import figure, show, output_file\n",
    "from bokeh.models import ColumnDataSource, HoverTool, NumeralTickFormatter, Label\n",
    "from bokeh.palettes import Category10\n",
    "import matplotlib.pyplot as plt"
   ]
  },
  {
   "cell_type": "markdown",
   "metadata": {},
   "source": [
    "<h2>Making mass spectra interactive with bokeh</h2>"
   ]
  },
  {
   "cell_type": "markdown",
   "metadata": {},
   "source": [
    "Visualizing peptide fragmentation mass spectra"
   ]
  },
  {
   "cell_type": "markdown",
   "metadata": {},
   "source": [
    "Import an example of a fragment ion spectrum:<br>\n",
    "a spectrum is a list of value pairs: mass-to-charge (shortened <i>m/z</i>) and inetsity of a signal for each ion"
   ]
  },
  {
   "cell_type": "code",
   "execution_count": 2,
   "metadata": {},
   "outputs": [
    {
     "name": "stdout",
     "output_type": "stream",
     "text": [
      "(477, 2)\n"
     ]
    },
    {
     "data": {
      "text/html": [
       "<div>\n",
       "<style scoped>\n",
       "    .dataframe tbody tr th:only-of-type {\n",
       "        vertical-align: middle;\n",
       "    }\n",
       "\n",
       "    .dataframe tbody tr th {\n",
       "        vertical-align: top;\n",
       "    }\n",
       "\n",
       "    .dataframe thead th {\n",
       "        text-align: right;\n",
       "    }\n",
       "</style>\n",
       "<table border=\"1\" class=\"dataframe\">\n",
       "  <thead>\n",
       "    <tr style=\"text-align: right;\">\n",
       "      <th></th>\n",
       "      <th>mz</th>\n",
       "      <th>Intensity</th>\n",
       "    </tr>\n",
       "  </thead>\n",
       "  <tbody>\n",
       "    <tr>\n",
       "      <th>0</th>\n",
       "      <td>101.07090</td>\n",
       "      <td>3075.85</td>\n",
       "    </tr>\n",
       "    <tr>\n",
       "      <th>1</th>\n",
       "      <td>102.05305</td>\n",
       "      <td>650.02</td>\n",
       "    </tr>\n",
       "    <tr>\n",
       "      <th>2</th>\n",
       "      <td>102.05502</td>\n",
       "      <td>7881.04</td>\n",
       "    </tr>\n",
       "  </tbody>\n",
       "</table>\n",
       "</div>"
      ],
      "text/plain": [
       "          mz  Intensity\n",
       "0  101.07090    3075.85\n",
       "1  102.05305     650.02\n",
       "2  102.05502    7881.04"
      ]
     },
     "execution_count": 2,
     "metadata": {},
     "output_type": "execute_result"
    }
   ],
   "source": [
    "df = pd.read_csv('tmt_spectrum_example.csv', sep=',')\n",
    "print(df.shape)\n",
    "df.head(3)"
   ]
  },
  {
   "cell_type": "markdown",
   "metadata": {},
   "source": [
    "Assign a precursor <i>m/z</i> and charge, they are often known and stored alongside the information about fragment ions"
   ]
  },
  {
   "cell_type": "code",
   "execution_count": 3,
   "metadata": {},
   "outputs": [],
   "source": [
    "precMZ = 939.88733\n",
    "precCh = 5"
   ]
  },
  {
   "cell_type": "markdown",
   "metadata": {},
   "source": [
    "<h3>Take a look at a static view of the spectrum using matplotlib</h3>"
   ]
  },
  {
   "cell_type": "markdown",
   "metadata": {},
   "source": [
    "Matplotlib plots are highly customizable, which makes it the choice for preparing a publication quality spectra. The <i>stem</i> method is handy for displaying mass spectra:"
   ]
  },
  {
   "cell_type": "code",
   "execution_count": 4,
   "metadata": {},
   "outputs": [
    {
     "data": {
      "text/plain": [
       "Text(0, 0.5, 'Intensity')"
      ]
     },
     "execution_count": 4,
     "metadata": {},
     "output_type": "execute_result"
    },
    {
     "data": {
      "image/png": "[encoded data removed]",
      "text/plain": [
       "<Figure size 1080x288 with 1 Axes>"
      ]
     },
     "metadata": {
      "needs_background": "light"
     },
     "output_type": "display_data"
    }
   ],
   "source": [
    "fig, ax = plt.subplots(1, 1, figsize=(15,4))\n",
    "fig.suptitle('Peptide Fragmentation Mass Spectrum')\n",
    "\n",
    "ax.stem( df['mz'], df['Intensity'], markerfmt=' ' )\n",
    "ax.set_xlabel('m/z')\n",
    "ax.set_ylabel('Intensity')"
   ]
  },
  {
   "cell_type": "markdown",
   "metadata": {},
   "source": [
    "As you can see, the typical characteristics of a tandem mass spectrum are:\n",
    "* High density of the <i>m/z</i> values, a spectrum has dozens or even hundreds of points\n",
    "* Substantial differences in the intensity (height) of the signals"
   ]
  },
  {
   "cell_type": "markdown",
   "metadata": {},
   "source": [
    "It is impossible to put all <i>m/z</i> labels onto the plot, but it is of primary interest for the scientists to see those values. An interactive highlighting of <i>m/z</i> would come very handy!"
   ]
  },
  {
   "cell_type": "markdown",
   "metadata": {},
   "source": [
    "<h3>Render bokeh plot</h3>"
   ]
  },
  {
   "cell_type": "code",
   "execution_count": 5,
   "metadata": {},
   "outputs": [],
   "source": [
    "mainTitle = 'Peptide Fragmentation Mass Spectrum'\n",
    "cds = ColumnDataSource(data=df)"
   ]
  },
  {
   "cell_type": "code",
   "execution_count": 6,
   "metadata": {},
   "outputs": [
    {
     "data": {
      "text/html": [
       "\n",
       "    <div class=\"bk-root\">\n",
       "        <a href=\"https://bokeh.org\" target=\"_blank\" class=\"bk-logo bk-logo-small bk-logo-notebook\"></a>\n",
       "        <span id=\"1003\">Loading BokehJS ...</span>\n",
       "    </div>"
      ]
     },
     "metadata": {},
     "output_type": "display_data"
    },
    {
     "data": {
      "application/javascript": [
       "\n",
       "(function(root) {\n",
       "  function now() {\n",
       "    return new Date();\n",
       "  }\n",
       "\n",
       "  var force = true;\n",
       "\n",
       "  if (typeof root._bokeh_onload_callbacks === \"undefined\" || force === true) {\n",
       "    root._bokeh_onload_callbacks = [];\n",
       "    root._bokeh_is_loading = undefined;\n",
       "  }\n",
       "\n",
       "  var JS_MIME_TYPE = 'application/javascript';\n",
       "  var HTML_MIME_TYPE = 'text/html';\n",
       "  var EXEC_MIME_TYPE = 'application/vnd.bokehjs_exec.v0+json';\n",
       "  var CLASS_NAME = 'output_bokeh rendered_html';\n",
       "\n",
       "  /**\n",
       "   * Render data to the DOM node\n",
       "   */\n",
       "  function render(props, node) {\n",
       "    var script = document.createElement(\"script\");\n",
       "    node.appendChild(script);\n",
       "  }\n",
       "\n",
       "  /**\n",
       "   * Handle when an output is cleared or removed\n",
       "   */\n",
       "  function handleClearOutput(event, handle) {\n",
       "    var cell = handle.cell;\n",
       "\n",
       "    var id = cell.output_area._bokeh_element_id;\n",
       "    var server_id = cell.output_area._bokeh_server_id;\n",
       "    // Clean up Bokeh references\n",
       "    if (id != null && id in Bokeh.index) {\n",
       "      Bokeh.index[id].model.document.clear();\n",
       "      delete Bokeh.index[id];\n",
       "    }\n",
       "\n",
       "    if (server_id !== undefined) {\n",
       "      // Clean up Bokeh references\n",
       "      var cmd = \"from bokeh.io.state import curstate; print(curstate().uuid_to_server['\" + server_id + \"'].get_sessions()[0].document.roots[0]._id)\";\n",
       "      cell.notebook.kernel.execute(cmd, {\n",
       "        iopub: {\n",
       "          output: function(msg) {\n",
       "            var id = msg.content.text.trim();\n",
       "            if (id in Bokeh.index) {\n",
       "              Bokeh.index[id].model.document.clear();\n",
       "              delete Bokeh.index[id];\n",
       "            }\n",
       "          }\n",
       "        }\n",
       "      });\n",
       "      // Destroy server and session\n",
       "      var cmd = \"import bokeh.io.notebook as ion; ion.destroy_server('\" + server_id + \"')\";\n",
       "      cell.notebook.kernel.execute(cmd);\n",
       "    }\n",
       "  }\n",
       "\n",
       "  /**\n",
       "   * Handle when a new output is added\n",
       "   */\n",
       "  function handleAddOutput(event, handle) {\n",
       "    var output_area = handle.output_area;\n",
       "    var output = handle.output;\n",
       "\n",
       "    // limit handleAddOutput to display_data with EXEC_MIME_TYPE content only\n",
       "    if ((output.output_type != \"display_data\") || (!Object.prototype.hasOwnProperty.call(output.data, EXEC_MIME_TYPE))) {\n",
       "      return\n",
       "    }\n",
       "\n",
       "    var toinsert = output_area.element.find(\".\" + CLASS_NAME.split(' ')[0]);\n",
       "\n",
       "    if (output.metadata[EXEC_MIME_TYPE][\"id\"] !== undefined) {\n",
       "      toinsert[toinsert.length - 1].firstChild.textContent = output.data[JS_MIME_TYPE];\n",
       "      // store reference to embed id on output_area\n",
       "      output_area._bokeh_element_id = output.metadata[EXEC_MIME_TYPE][\"id\"];\n",
       "    }\n",
       "    if (output.metadata[EXEC_MIME_TYPE][\"server_id\"] !== undefined) {\n",
       "      var bk_div = document.createElement(\"div\");\n",
       "      bk_div.innerHTML = output.data[HTML_MIME_TYPE];\n",
       "      var script_attrs = bk_div.children[0].attributes;\n",
       "      for (var i = 0; i < script_attrs.length; i++) {\n",
       "        toinsert[toinsert.length - 1].firstChild.setAttribute(script_attrs[i].name, script_attrs[i].value);\n",
       "        toinsert[toinsert.length - 1].firstChild.textContent = bk_div.children[0].textContent\n",
       "      }\n",
       "      // store reference to server id on output_area\n",
       "      output_area._bokeh_server_id = output.metadata[EXEC_MIME_TYPE][\"server_id\"];\n",
       "    }\n",
       "  }\n",
       "\n",
       "  function register_renderer(events, OutputArea) {\n",
       "\n",
       "    function append_mime(data, metadata, element) {\n",
       "      // create a DOM node to render to\n",
       "      var toinsert = this.create_output_subarea(\n",
       "        metadata,\n",
       "        CLASS_NAME,\n",
       "        EXEC_MIME_TYPE\n",
       "      );\n",
       "      this.keyboard_manager.register_events(toinsert);\n",
       "      // Render to node\n",
       "      var props = {data: data, metadata: metadata[EXEC_MIME_TYPE]};\n",
       "      render(props, toinsert[toinsert.length - 1]);\n",
       "      element.append(toinsert);\n",
       "      return toinsert\n",
       "    }\n",
       "\n",
       "    /* Handle when an output is cleared or removed */\n",
       "    events.on('clear_output.CodeCell', handleClearOutput);\n",
       "    events.on('delete.Cell', handleClearOutput);\n",
       "\n",
       "    /* Handle when a new output is added */\n",
       "    events.on('output_added.OutputArea', handleAddOutput);\n",
       "\n",
       "    /**\n",
       "     * Register the mime type and append_mime function with output_area\n",
       "     */\n",
       "    OutputArea.prototype.register_mime_type(EXEC_MIME_TYPE, append_mime, {\n",
       "      /* Is output safe? */\n",
       "      safe: true,\n",
       "      /* Index of renderer in `output_area.display_order` */\n",
       "      index: 0\n",
       "    });\n",
       "  }\n",
       "\n",
       "  // register the mime type if in Jupyter Notebook environment and previously unregistered\n",
       "  if (root.Jupyter !== undefined) {\n",
       "    var events = require('base/js/events');\n",
       "    var OutputArea = require('notebook/js/outputarea').OutputArea;\n",
       "\n",
       "    if (OutputArea.prototype.mime_types().indexOf(EXEC_MIME_TYPE) == -1) {\n",
       "      register_renderer(events, OutputArea);\n",
       "    }\n",
       "  }\n",
       "\n",
       "  \n",
       "  if (typeof (root._bokeh_timeout) === \"undefined\" || force === true) {\n",
       "    root._bokeh_timeout = Date.now() + 5000;\n",
       "    root._bokeh_failed_load = false;\n",
       "  }\n",
       "\n",
       "  var NB_LOAD_WARNING = {'data': {'text/html':\n",
       "     \"<div style='background-color: #fdd'>\\n\"+\n",
       "     \"<p>\\n\"+\n",
       "     \"BokehJS does not appear to have successfully loaded. If loading BokehJS from CDN, this \\n\"+\n",
       "     \"may be due to a slow or bad network connection. Possible fixes:\\n\"+\n",
       "     \"</p>\\n\"+\n",
       "     \"<ul>\\n\"+\n",
       "     \"<li>re-rerun `output_notebook()` to attempt to load from CDN again, or</li>\\n\"+\n",
       "     \"<li>use INLINE resources instead, as so:</li>\\n\"+\n",
       "     \"</ul>\\n\"+\n",
       "     \"<code>\\n\"+\n",
       "     \"from bokeh.resources import INLINE\\n\"+\n",
       "     \"output_notebook(resources=INLINE)\\n\"+\n",
       "     \"</code>\\n\"+\n",
       "     \"</div>\"}};\n",
       "\n",
       "  function display_loaded() {\n",
       "    var el = document.getElementById(\"1003\");\n",
       "    if (el != null) {\n",
       "      el.textContent = \"BokehJS is loading...\";\n",
       "    }\n",
       "    if (root.Bokeh !== undefined) {\n",
       "      if (el != null) {\n",
       "        el.textContent = \"BokehJS \" + root.Bokeh.version + \" successfully loaded.\";\n",
       "      }\n",
       "    } else if (Date.now() < root._bokeh_timeout) {\n",
       "      setTimeout(display_loaded, 100)\n",
       "    }\n",
       "  }\n",
       "\n",
       "\n",
       "  function run_callbacks() {\n",
       "    try {\n",
       "      root._bokeh_onload_callbacks.forEach(function(callback) {\n",
       "        if (callback != null)\n",
       "          callback();\n",
       "      });\n",
       "    } finally {\n",
       "      delete root._bokeh_onload_callbacks\n",
       "    }\n",
       "    console.debug(\"Bokeh: all callbacks have finished\");\n",
       "  }\n",
       "\n",
       "  function load_libs(css_urls, js_urls, callback) {\n",
       "    if (css_urls == null) css_urls = [];\n",
       "    if (js_urls == null) js_urls = [];\n",
       "\n",
       "    root._bokeh_onload_callbacks.push(callback);\n",
       "    if (root._bokeh_is_loading > 0) {\n",
       "      console.debug(\"Bokeh: BokehJS is being loaded, scheduling callback at\", now());\n",
       "      return null;\n",
       "    }\n",
       "    if (js_urls == null || js_urls.length === 0) {\n",
       "      run_callbacks();\n",
       "      return null;\n",
       "    }\n",
       "    console.debug(\"Bokeh: BokehJS not loaded, scheduling load and callback at\", now());\n",
       "    root._bokeh_is_loading = css_urls.length + js_urls.length;\n",
       "\n",
       "    function on_load() {\n",
       "      root._bokeh_is_loading--;\n",
       "      if (root._bokeh_is_loading === 0) {\n",
       "        console.debug(\"Bokeh: all BokehJS libraries/stylesheets loaded\");\n",
       "        run_callbacks()\n",
       "      }\n",
       "    }\n",
       "\n",
       "    function on_error(url) {\n",
       "      console.error(\"failed to load \" + url);\n",
       "    }\n",
       "\n",
       "    for (let i = 0; i < css_urls.length; i++) {\n",
       "      const url = css_urls[i];\n",
       "      const element = document.createElement(\"link\");\n",
       "      element.onload = on_load;\n",
       "      element.onerror = on_error.bind(null, url);\n",
       "      element.rel = \"stylesheet\";\n",
       "      element.type = \"text/css\";\n",
       "      element.href = url;\n",
       "      console.debug(\"Bokeh: injecting link tag for BokehJS stylesheet: \", url);\n",
       "      document.body.appendChild(element);\n",
       "    }\n",
       "\n",
       "    const hashes = {\"https://cdn.bokeh.org/bokeh/release/bokeh-2.3.1.min.js\": \"YF85VygJKMVnHE+lLv2AM93Vbstr0yo2TbIu5v8se5Rq3UQAUmcuh4aaJwNlpKwa\", \"https://cdn.bokeh.org/bokeh/release/bokeh-widgets-2.3.1.min.js\": \"KKuas3gevv3PvrlkyCMzffFeaMq5we/a2QsP5AUoS3mJ0jmaCL7jirFJN3GoE/lM\", \"https://cdn.bokeh.org/bokeh/release/bokeh-tables-2.3.1.min.js\": \"MK/uFc3YT18pkvvXRl66tTHjP0/dxoSH2e/eiNMFIguKlun2+WVqaPTWmUy/zvh4\"};\n",
       "\n",
       "    for (let i = 0; i < js_urls.length; i++) {\n",
       "      const url = js_urls[i];\n",
       "      const element = document.createElement('script');\n",
       "      element.onload = on_load;\n",
       "      element.onerror = on_error.bind(null, url);\n",
       "      element.async = false;\n",
       "      element.src = url;\n",
       "      if (url in hashes) {\n",
       "        element.crossOrigin = \"anonymous\";\n",
       "        element.integrity = \"sha384-\" + hashes[url];\n",
       "      }\n",
       "      console.debug(\"Bokeh: injecting script tag for BokehJS library: \", url);\n",
       "      document.head.appendChild(element);\n",
       "    }\n",
       "  };\n",
       "\n",
       "  function inject_raw_css(css) {\n",
       "    const element = document.createElement(\"style\");\n",
       "    element.appendChild(document.createTextNode(css));\n",
       "    document.body.appendChild(element);\n",
       "  }\n",
       "\n",
       "  \n",
       "  var js_urls = [\"https://cdn.bokeh.org/bokeh/release/bokeh-2.3.1.min.js\", \"https://cdn.bokeh.org/bokeh/release/bokeh-widgets-2.3.1.min.js\", \"https://cdn.bokeh.org/bokeh/release/bokeh-tables-2.3.1.min.js\"];\n",
       "  var css_urls = [];\n",
       "  \n",
       "\n",
       "  var inline_js = [\n",
       "    function(Bokeh) {\n",
       "      Bokeh.set_log_level(\"info\");\n",
       "    },\n",
       "    function(Bokeh) {\n",
       "    \n",
       "    \n",
       "    }\n",
       "  ];\n",
       "\n",
       "  function run_inline_js() {\n",
       "    \n",
       "    if (root.Bokeh !== undefined || force === true) {\n",
       "      \n",
       "    for (var i = 0; i < inline_js.length; i++) {\n",
       "      inline_js[i].call(root, root.Bokeh);\n",
       "    }\n",
       "    if (force === true) {\n",
       "        display_loaded();\n",
       "      }} else if (Date.now() < root._bokeh_timeout) {\n",
       "      setTimeout(run_inline_js, 100);\n",
       "    } else if (!root._bokeh_failed_load) {\n",
       "      console.log(\"Bokeh: BokehJS failed to load within specified timeout.\");\n",
       "      root._bokeh_failed_load = true;\n",
       "    } else if (force !== true) {\n",
       "      var cell = $(document.getElementById(\"1003\")).parents('.cell').data().cell;\n",
       "      cell.output_area.append_execute_result(NB_LOAD_WARNING)\n",
       "    }\n",
       "\n",
       "  }\n",
       "\n",
       "  if (root._bokeh_is_loading === 0) {\n",
       "    console.debug(\"Bokeh: BokehJS loaded, going straight to plotting\");\n",
       "    run_inline_js();\n",
       "  } else {\n",
       "    load_libs(css_urls, js_urls, function() {\n",
       "      console.debug(\"Bokeh: BokehJS plotting callback run at\", now());\n",
       "      run_inline_js();\n",
       "    });\n",
       "  }\n",
       "}(window));"
      ],
      "application/vnd.bokehjs_load.v0+json": "\n(function(root) {\n  function now() {\n    return new Date();\n  }\n\n  var force = true;\n\n  if (typeof root._bokeh_onload_callbacks === \"undefined\" || force === true) {\n    root._bokeh_onload_callbacks = [];\n    root._bokeh_is_loading = undefined;\n  }\n\n  \n\n  \n  if (typeof (root._bokeh_timeout) === \"undefined\" || force === true) {\n    root._bokeh_timeout = Date.now() + 5000;\n    root._bokeh_failed_load = false;\n  }\n\n  var NB_LOAD_WARNING = {'data': {'text/html':\n     \"<div style='background-color: #fdd'>\\n\"+\n     \"<p>\\n\"+\n     \"BokehJS does not appear to have successfully loaded. If loading BokehJS from CDN, this \\n\"+\n     \"may be due to a slow or bad network connection. Possible fixes:\\n\"+\n     \"</p>\\n\"+\n     \"<ul>\\n\"+\n     \"<li>re-rerun `output_notebook()` to attempt to load from CDN again, or</li>\\n\"+\n     \"<li>use INLINE resources instead, as so:</li>\\n\"+\n     \"</ul>\\n\"+\n     \"<code>\\n\"+\n     \"from bokeh.resources import INLINE\\n\"+\n     \"output_notebook(resources=INLINE)\\n\"+\n     \"</code>\\n\"+\n     \"</div>\"}};\n\n  function display_loaded() {\n    var el = document.getElementById(\"1003\");\n    if (el != null) {\n      el.textContent = \"BokehJS is loading...\";\n    }\n    if (root.Bokeh !== undefined) {\n      if (el != null) {\n        el.textContent = \"BokehJS \" + root.Bokeh.version + \" successfully loaded.\";\n      }\n    } else if (Date.now() < root._bokeh_timeout) {\n      setTimeout(display_loaded, 100)\n    }\n  }\n\n\n  function run_callbacks() {\n    try {\n      root._bokeh_onload_callbacks.forEach(function(callback) {\n        if (callback != null)\n          callback();\n      });\n    } finally {\n      delete root._bokeh_onload_callbacks\n    }\n    console.debug(\"Bokeh: all callbacks have finished\");\n  }\n\n  function load_libs(css_urls, js_urls, callback) {\n    if (css_urls == null) css_urls = [];\n    if (js_urls == null) js_urls = [];\n\n    root._bokeh_onload_callbacks.push(callback);\n    if (root._bokeh_is_loading > 0) {\n      console.debug(\"Bokeh: BokehJS is being loaded, scheduling callback at\", now());\n      return null;\n    }\n    if (js_urls == null || js_urls.length === 0) {\n      run_callbacks();\n      return null;\n    }\n    console.debug(\"Bokeh: BokehJS not loaded, scheduling load and callback at\", now());\n    root._bokeh_is_loading = css_urls.length + js_urls.length;\n\n    function on_load() {\n      root._bokeh_is_loading--;\n      if (root._bokeh_is_loading === 0) {\n        console.debug(\"Bokeh: all BokehJS libraries/stylesheets loaded\");\n        run_callbacks()\n      }\n    }\n\n    function on_error(url) {\n      console.error(\"failed to load \" + url);\n    }\n\n    for (let i = 0; i < css_urls.length; i++) {\n      const url = css_urls[i];\n      const element = document.createElement(\"link\");\n      element.onload = on_load;\n      element.onerror = on_error.bind(null, url);\n      element.rel = \"stylesheet\";\n      element.type = \"text/css\";\n      element.href = url;\n      console.debug(\"Bokeh: injecting link tag for BokehJS stylesheet: \", url);\n      document.body.appendChild(element);\n    }\n\n    const hashes = {\"https://cdn.bokeh.org/bokeh/release/bokeh-2.3.1.min.js\": \"YF85VygJKMVnHE+lLv2AM93Vbstr0yo2TbIu5v8se5Rq3UQAUmcuh4aaJwNlpKwa\", \"https://cdn.bokeh.org/bokeh/release/bokeh-widgets-2.3.1.min.js\": \"KKuas3gevv3PvrlkyCMzffFeaMq5we/a2QsP5AUoS3mJ0jmaCL7jirFJN3GoE/lM\", \"https://cdn.bokeh.org/bokeh/release/bokeh-tables-2.3.1.min.js\": \"MK/uFc3YT18pkvvXRl66tTHjP0/dxoSH2e/eiNMFIguKlun2+WVqaPTWmUy/zvh4\"};\n\n    for (let i = 0; i < js_urls.length; i++) {\n      const url = js_urls[i];\n      const element = document.createElement('script');\n      element.onload = on_load;\n      element.onerror = on_error.bind(null, url);\n      element.async = false;\n      element.src = url;\n      if (url in hashes) {\n        element.crossOrigin = \"anonymous\";\n        element.integrity = \"sha384-\" + hashes[url];\n      }\n      console.debug(\"Bokeh: injecting script tag for BokehJS library: \", url);\n      document.head.appendChild(element);\n    }\n  };\n\n  function inject_raw_css(css) {\n    const element = document.createElement(\"style\");\n    element.appendChild(document.createTextNode(css));\n    document.body.appendChild(element);\n  }\n\n  \n  var js_urls = [\"https://cdn.bokeh.org/bokeh/release/bokeh-2.3.1.min.js\", \"https://cdn.bokeh.org/bokeh/release/bokeh-widgets-2.3.1.min.js\", \"https://cdn.bokeh.org/bokeh/release/bokeh-tables-2.3.1.min.js\"];\n  var css_urls = [];\n  \n\n  var inline_js = [\n    function(Bokeh) {\n      Bokeh.set_log_level(\"info\");\n    },\n    function(Bokeh) {\n    \n    \n    }\n  ];\n\n  function run_inline_js() {\n    \n    if (root.Bokeh !== undefined || force === true) {\n      \n    for (var i = 0; i < inline_js.length; i++) {\n      inline_js[i].call(root, root.Bokeh);\n    }\n    if (force === true) {\n        display_loaded();\n      }} else if (Date.now() < root._bokeh_timeout) {\n      setTimeout(run_inline_js, 100);\n    } else if (!root._bokeh_failed_load) {\n      console.log(\"Bokeh: BokehJS failed to load within specified timeout.\");\n      root._bokeh_failed_load = true;\n    } else if (force !== true) {\n      var cell = $(document.getElementById(\"1003\")).parents('.cell').data().cell;\n      cell.output_area.append_execute_result(NB_LOAD_WARNING)\n    }\n\n  }\n\n  if (root._bokeh_is_loading === 0) {\n    console.debug(\"Bokeh: BokehJS loaded, going straight to plotting\");\n    run_inline_js();\n  } else {\n    load_libs(css_urls, js_urls, function() {\n      console.debug(\"Bokeh: BokehJS plotting callback run at\", now());\n      run_inline_js();\n    });\n  }\n}(window));"
     },
     "metadata": {},
     "output_type": "display_data"
    }
   ],
   "source": [
    "output_notebook()"
   ]
  },
  {
   "cell_type": "code",
   "execution_count": 7,
   "metadata": {},
   "outputs": [
    {
     "data": {
      "text/html": [
       "\n",
       "\n",
       "\n",
       "\n",
       "\n",
       "\n",
       "  <div class=\"bk-root\" id=\"cfbb59e9-19f0-45f1-8241-849aed91fec7\" data-root-id=\"1004\"></div>\n"
      ]
     },
     "metadata": {},
     "output_type": "display_data"
    },
    {
     "data": {
      "application/javascript": [
       "(function(root) {\n",
       "  function embed_document(root) {\n",
       "    \n",
       "  var docs_json = {\"a0732fbe-733c-4067-a318-9d51f01fe9da\":{\"defs\":[],\"roots\":{\"references\":[{\"attributes\":{\"below\":[{\"id\":\"1015\"}],\"center\":[{\"id\":\"1018\"},{\"id\":\"1022\"}],\"height\":300,\"left\":[{\"id\":\"1019\"}],\"renderers\":[{\"id\":\"1040\"}],\"title\":{\"id\":\"1005\"},\"toolbar\":{\"id\":\"1030\"},\"width\":800,\"x_range\":{\"id\":\"1007\"},\"x_scale\":{\"id\":\"1011\"},\"y_range\":{\"id\":\"1009\"},\"y_scale\":{\"id\":\"1013\"}},\"id\":\"1004\",\"subtype\":\"Figure\",\"type\":\"Plot\"},{\"attributes\":{\"text\":\"Peptide Fragmentation Mass Spectrum\"},\"id\":\"1005\",\"type\":\"Title\"},{\"attributes\":{\"data\":{\"Intensity\":{\"__ndarray__\":\"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\",\"dtype\":\"float64\",\"order\":\"little\",\"shape\":[477]},\"index\":[0,1,2,3,4,5,6,7,8,9,10,11,12,13,14,15,16,17,18,19,20,21,22,23,24,25,26,27,28,29,30,31,32,33,34,35,36,37,38,39,40,41,42,43,44,45,46,47,48,49,50,51,52,53,54,55,56,57,58,59,60,61,62,63,64,65,66,67,68,69,70,71,72,73,74,75,76,77,78,79,80,81,82,83,84,85,86,87,88,89,90,91,92,93,94,95,96,97,98,99,100,101,102,103,104,105,106,107,108,109,110,111,112,113,114,115,116,117,118,119,120,121,122,123,124,125,126,127,128,129,130,131,132,133,134,135,136,137,138,139,140,141,142,143,144,145,146,147,148,149,150,151,152,153,154,155,156,157,158,159,160,161,162,163,164,165,166,167,168,169,170,171,172,173,174,175,176,177,178,179,180,181,182,183,184,185,186,187,188,189,190,191,192,193,194,195,196,197,198,199,200,201,202,203,204,205,206,207,208,209,210,211,212,213,214,215,216,217,218,219,220,221,222,223,224,225,226,227,228,229,230,231,232,233,234,235,236,237,238,239,240,241,242,243,244,245,246,247,248,249,250,251,252,253,254,255,256,257,258,259,260,261,262,263,264,265,266,267,268,269,270,271,272,273,274,275,276,277,278,279,280,281,282,283,284,285,286,287,288,289,290,291,292,293,294,295,296,297,298,299,300,301,302,303,304,305,306,307,308,309,310,311,312,313,314,315,316,317,318,319,320,321,322,323,324,325,326,327,328,329,330,331,332,333,334,335,336,337,338,339,340,341,342,343,344,345,346,347,348,349,350,351,352,353,354,355,356,357,358,359,360,361,362,363,364,365,366,367,368,369,370,371,372,373,374,375,376,377,378,379,380,381,382,383,384,385,386,387,388,389,390,391,392,393,394,395,396,397,398,399,400,401,402,403,404,405,406,407,408,409,410,411,412,413,414,415,416,417,418,419,420,421,422,423,424,425,426,427,428,429,430,431,432,433,434,435,436,437,438,439,440,441,442,443,444,445,446,447,448,449,450,451,452,453,454,455,456,457,458,459,460,461,462,463,464,465,466,467,468,469,470,471,472,473,474,475,476],\"mz\":{\"__ndarray__\":\"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\",\"dtype\":\"float64\",\"order\":\"little\",\"shape\":[477]}},\"selected\":{\"id\":\"1050\"},\"selection_policy\":{\"id\":\"1051\"}},\"id\":\"1002\",\"type\":\"ColumnDataSource\"},{\"attributes\":{\"fill_alpha\":{\"value\":0.1},\"fill_color\":{\"value\":\"#324ea8\"},\"line_alpha\":{\"value\":0.1},\"line_color\":{\"value\":\"#324ea8\"},\"top\":{\"field\":\"Intensity\"},\"width\":{\"value\":0.001},\"x\":{\"field\":\"mz\"}},\"id\":\"1039\",\"type\":\"VBar\"},{\"attributes\":{},\"id\":\"1007\",\"type\":\"DataRange1d\"},{\"attributes\":{\"formatter\":{\"id\":\"1043\"},\"major_label_policy\":{\"id\":\"1045\"},\"ticker\":{\"id\":\"1020\"}},\"id\":\"1019\",\"type\":\"LinearAxis\"},{\"attributes\":{},\"id\":\"1050\",\"type\":\"Selection\"},{\"attributes\":{},\"id\":\"1011\",\"type\":\"LinearScale\"},{\"attributes\":{},\"id\":\"1051\",\"type\":\"UnionRenderers\"},{\"attributes\":{},\"id\":\"1009\",\"type\":\"DataRange1d\"},{\"attributes\":{\"source\":{\"id\":\"1002\"}},\"id\":\"1041\",\"type\":\"CDSView\"},{\"attributes\":{},\"id\":\"1013\",\"type\":\"LinearScale\"},{\"attributes\":{\"formatter\":{\"id\":\"1046\"},\"major_label_policy\":{\"id\":\"1048\"},\"ticker\":{\"id\":\"1016\"}},\"id\":\"1015\",\"type\":\"LinearAxis\"},{\"attributes\":{\"fill_color\":{\"value\":\"#324ea8\"},\"line_color\":{\"value\":\"#324ea8\"},\"top\":{\"field\":\"Intensity\"},\"width\":{\"value\":0.001},\"x\":{\"field\":\"mz\"}},\"id\":\"1038\",\"type\":\"VBar\"},{\"attributes\":{},\"id\":\"1016\",\"type\":\"BasicTicker\"},{\"attributes\":{\"axis\":{\"id\":\"1015\"},\"ticker\":null},\"id\":\"1018\",\"type\":\"Grid\"},{\"attributes\":{},\"id\":\"1045\",\"type\":\"AllLabels\"},{\"attributes\":{\"active_multi\":null,\"tools\":[{\"id\":\"1023\"},{\"id\":\"1024\"},{\"id\":\"1025\"},{\"id\":\"1026\"},{\"id\":\"1027\"},{\"id\":\"1029\"}]},\"id\":\"1030\",\"type\":\"Toolbar\"},{\"attributes\":{\"axis\":{\"id\":\"1019\"},\"dimension\":1,\"ticker\":null},\"id\":\"1022\",\"type\":\"Grid\"},{\"attributes\":{},\"id\":\"1020\",\"type\":\"BasicTicker\"},{\"attributes\":{\"data_source\":{\"id\":\"1002\"},\"glyph\":{\"id\":\"1038\"},\"hover_glyph\":null,\"muted_glyph\":null,\"nonselection_glyph\":{\"id\":\"1039\"},\"view\":{\"id\":\"1041\"}},\"id\":\"1040\",\"type\":\"GlyphRenderer\"},{\"attributes\":{},\"id\":\"1026\",\"type\":\"UndoTool\"},{\"attributes\":{\"dimensions\":\"width\"},\"id\":\"1024\",\"type\":\"PanTool\"},{\"attributes\":{\"dimensions\":\"width\"},\"id\":\"1023\",\"type\":\"WheelZoomTool\"},{\"attributes\":{\"overlay\":{\"id\":\"1028\"}},\"id\":\"1025\",\"type\":\"BoxZoomTool\"},{\"attributes\":{},\"id\":\"1027\",\"type\":\"ResetTool\"},{\"attributes\":{},\"id\":\"1043\",\"type\":\"BasicTickFormatter\"},{\"attributes\":{},\"id\":\"1046\",\"type\":\"BasicTickFormatter\"},{\"attributes\":{\"callback\":null,\"tooltips\":[[\"m/z\",\"@mz{0.0000}\"],[\"Int\",\"@Intensity\"]]},\"id\":\"1029\",\"type\":\"HoverTool\"},{\"attributes\":{},\"id\":\"1048\",\"type\":\"AllLabels\"},{\"attributes\":{\"bottom_units\":\"screen\",\"fill_alpha\":0.5,\"fill_color\":\"lightgrey\",\"left_units\":\"screen\",\"level\":\"overlay\",\"line_alpha\":1.0,\"line_color\":\"black\",\"line_dash\":[4,4],\"line_width\":2,\"right_units\":\"screen\",\"syncable\":false,\"top_units\":\"screen\"},\"id\":\"1028\",\"type\":\"BoxAnnotation\"}],\"root_ids\":[\"1004\"]},\"title\":\"Bokeh Application\",\"version\":\"2.3.1\"}};\n",
       "  var render_items = [{\"docid\":\"a0732fbe-733c-4067-a318-9d51f01fe9da\",\"root_ids\":[\"1004\"],\"roots\":{\"1004\":\"cfbb59e9-19f0-45f1-8241-849aed91fec7\"}}];\n",
       "  root.Bokeh.embed.embed_items_notebook(docs_json, render_items);\n",
       "\n",
       "  }\n",
       "  if (root.Bokeh !== undefined) {\n",
       "    embed_document(root);\n",
       "  } else {\n",
       "    var attempts = 0;\n",
       "    var timer = setInterval(function(root) {\n",
       "      if (root.Bokeh !== undefined) {\n",
       "        clearInterval(timer);\n",
       "        embed_document(root);\n",
       "      } else {\n",
       "        attempts++;\n",
       "        if (attempts > 100) {\n",
       "          clearInterval(timer);\n",
       "          console.log(\"Bokeh: ERROR: Unable to run BokehJS code because BokehJS library is missing\");\n",
       "        }\n",
       "      }\n",
       "    }, 10, root)\n",
       "  }\n",
       "})(window);"
      ],
      "application/vnd.bokehjs_exec.v0+json": ""
     },
     "metadata": {
      "application/vnd.bokehjs_exec.v0+json": {
       "id": "1004"
      }
     },
     "output_type": "display_data"
    }
   ],
   "source": [
    "#output_file('msms_tmt_bar.html')\n",
    "\n",
    "def create_p(width=800, height=300):\n",
    "    tooltips = [\n",
    "        ('m/z','@mz{0.0000}'),\n",
    "        ('Int','@Intensity')\n",
    "        ]\n",
    "    p = figure(\n",
    "        plot_width=width, plot_height=height,\n",
    "        title = mainTitle,\n",
    "        tools = 'xwheel_zoom,xpan,box_zoom,undo,reset',\n",
    "        tooltips=tooltips\n",
    "        )\n",
    "    return p\n",
    "p = create_p()\n",
    "\n",
    "p.vbar(\n",
    "    x = 'mz', top = 'Intensity',\n",
    "    source = cds,\n",
    "    color = '#324ea8',# alpha = 0.8,\n",
    "    width = 0.001\n",
    "    )\n",
    "\n",
    "show(p)"
   ]
  },
  {
   "cell_type": "markdown",
   "metadata": {},
   "source": [
    "But there's a problem with the bar plots: they have constant width. If we set the width to a meaningful value that is based on the actual uncertainty of the <i>m/z</i> measurement, it will be extremely narrow. And the hover tool does not work as we would want it to do! "
   ]
  },
  {
   "cell_type": "code",
   "execution_count": 8,
   "metadata": {},
   "outputs": [
    {
     "data": {
      "text/html": [
       "\n",
       "\n",
       "\n",
       "\n",
       "\n",
       "\n",
       "  <div class=\"bk-root\" id=\"218bb890-577e-45b4-bc6f-2a0736b90e30\" data-root-id=\"1102\"></div>\n"
      ]
     },
     "metadata": {},
     "output_type": "display_data"
    },
    {
     "data": {
      "application/javascript": [
       "(function(root) {\n",
       "  function embed_document(root) {\n",
       "    \n",
       "  var docs_json = {\"eb9942a7-0cda-4eb2-a67e-7bd39d89e175\":{\"defs\":[],\"roots\":{\"references\":[{\"attributes\":{\"below\":[{\"id\":\"1113\"}],\"center\":[{\"id\":\"1116\"},{\"id\":\"1120\"}],\"height\":300,\"left\":[{\"id\":\"1117\"}],\"renderers\":[{\"id\":\"1138\"}],\"title\":{\"id\":\"1103\"},\"toolbar\":{\"id\":\"1128\"},\"width\":800,\"x_range\":{\"id\":\"1105\"},\"x_scale\":{\"id\":\"1109\"},\"y_range\":{\"id\":\"1107\"},\"y_scale\":{\"id\":\"1111\"}},\"id\":\"1102\",\"subtype\":\"Figure\",\"type\":\"Plot\"},{\"attributes\":{},\"id\":\"1151\",\"type\":\"BasicTickFormatter\"},{\"attributes\":{\"data\":{\"Intensity\":{\"__ndarray__\":\"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\",\"dtype\":\"float64\",\"order\":\"little\",\"shape\":[477]},\"index\":[0,1,2,3,4,5,6,7,8,9,10,11,12,13,14,15,16,17,18,19,20,21,22,23,24,25,26,27,28,29,30,31,32,33,34,35,36,37,38,39,40,41,42,43,44,45,46,47,48,49,50,51,52,53,54,55,56,57,58,59,60,61,62,63,64,65,66,67,68,69,70,71,72,73,74,75,76,77,78,79,80,81,82,83,84,85,86,87,88,89,90,91,92,93,94,95,96,97,98,99,100,101,102,103,104,105,106,107,108,109,110,111,112,113,114,115,116,117,118,119,120,121,122,123,124,125,126,127,128,129,130,131,132,133,134,135,136,137,138,139,140,141,142,143,144,145,146,147,148,149,150,151,152,153,154,155,156,157,158,159,160,161,162,163,164,165,166,167,168,169,170,171,172,173,174,175,176,177,178,179,180,181,182,183,184,185,186,187,188,189,190,191,192,193,194,195,196,197,198,199,200,201,202,203,204,205,206,207,208,209,210,211,212,213,214,215,216,217,218,219,220,221,222,223,224,225,226,227,228,229,230,231,232,233,234,235,236,237,238,239,240,241,242,243,244,245,246,247,248,249,250,251,252,253,254,255,256,257,258,259,260,261,262,263,264,265,266,267,268,269,270,271,272,273,274,275,276,277,278,279,280,281,282,283,284,285,286,287,288,289,290,291,292,293,294,295,296,297,298,299,300,301,302,303,304,305,306,307,308,309,310,311,312,313,314,315,316,317,318,319,320,321,322,323,324,325,326,327,328,329,330,331,332,333,334,335,336,337,338,339,340,341,342,343,344,345,346,347,348,349,350,351,352,353,354,355,356,357,358,359,360,361,362,363,364,365,366,367,368,369,370,371,372,373,374,375,376,377,378,379,380,381,382,383,384,385,386,387,388,389,390,391,392,393,394,395,396,397,398,399,400,401,402,403,404,405,406,407,408,409,410,411,412,413,414,415,416,417,418,419,420,421,422,423,424,425,426,427,428,429,430,431,432,433,434,435,436,437,438,439,440,441,442,443,444,445,446,447,448,449,450,451,452,453,454,455,456,457,458,459,460,461,462,463,464,465,466,467,468,469,470,471,472,473,474,475,476],\"mz\":{\"__ndarray__\":\"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\",\"dtype\":\"float64\",\"order\":\"little\",\"shape\":[477]}},\"selected\":{\"id\":\"1050\"},\"selection_policy\":{\"id\":\"1051\"}},\"id\":\"1002\",\"type\":\"ColumnDataSource\"},{\"attributes\":{},\"id\":\"1121\",\"type\":\"PanTool\"},{\"attributes\":{},\"id\":\"1153\",\"type\":\"AllLabels\"},{\"attributes\":{\"axis\":{\"id\":\"1117\"},\"dimension\":1,\"ticker\":null},\"id\":\"1120\",\"type\":\"Grid\"},{\"attributes\":{},\"id\":\"1050\",\"type\":\"Selection\"},{\"attributes\":{\"line_color\":\"#324ea8\",\"line_width\":2,\"x\":{\"field\":\"mz\"},\"y\":{\"field\":\"Intensity\"}},\"id\":\"1136\",\"type\":\"Line\"},{\"attributes\":{},\"id\":\"1051\",\"type\":\"UnionRenderers\"},{\"attributes\":{},\"id\":\"1156\",\"type\":\"AllLabels\"},{\"attributes\":{},\"id\":\"1122\",\"type\":\"WheelZoomTool\"},{\"attributes\":{\"active_multi\":null,\"tools\":[{\"id\":\"1121\"},{\"id\":\"1122\"},{\"id\":\"1123\"},{\"id\":\"1124\"},{\"id\":\"1125\"},{\"id\":\"1126\"}]},\"id\":\"1128\",\"type\":\"Toolbar\"},{\"attributes\":{\"bottom_units\":\"screen\",\"fill_alpha\":0.5,\"fill_color\":\"lightgrey\",\"left_units\":\"screen\",\"level\":\"overlay\",\"line_alpha\":1.0,\"line_color\":\"black\",\"line_dash\":[4,4],\"line_width\":2,\"right_units\":\"screen\",\"syncable\":false,\"top_units\":\"screen\"},\"id\":\"1127\",\"type\":\"BoxAnnotation\"},{\"attributes\":{},\"id\":\"1124\",\"type\":\"SaveTool\"},{\"attributes\":{},\"id\":\"1111\",\"type\":\"LinearScale\"},{\"attributes\":{},\"id\":\"1107\",\"type\":\"DataRange1d\"},{\"attributes\":{},\"id\":\"1114\",\"type\":\"BasicTicker\"},{\"attributes\":{\"data_source\":{\"id\":\"1002\"},\"glyph\":{\"id\":\"1136\"},\"hover_glyph\":null,\"muted_glyph\":null,\"nonselection_glyph\":{\"id\":\"1137\"},\"view\":{\"id\":\"1139\"}},\"id\":\"1138\",\"type\":\"GlyphRenderer\"},{\"attributes\":{\"overlay\":{\"id\":\"1127\"}},\"id\":\"1123\",\"type\":\"BoxZoomTool\"},{\"attributes\":{},\"id\":\"1118\",\"type\":\"BasicTicker\"},{\"attributes\":{},\"id\":\"1126\",\"type\":\"HelpTool\"},{\"attributes\":{\"text\":\"Peptide Fragmentation Mass Spectrum\"},\"id\":\"1103\",\"type\":\"Title\"},{\"attributes\":{\"line_alpha\":0.1,\"line_color\":\"#324ea8\",\"line_width\":2,\"x\":{\"field\":\"mz\"},\"y\":{\"field\":\"Intensity\"}},\"id\":\"1137\",\"type\":\"Line\"},{\"attributes\":{},\"id\":\"1154\",\"type\":\"BasicTickFormatter\"},{\"attributes\":{},\"id\":\"1105\",\"type\":\"DataRange1d\"},{\"attributes\":{},\"id\":\"1125\",\"type\":\"ResetTool\"},{\"attributes\":{\"formatter\":{\"id\":\"1151\"},\"major_label_policy\":{\"id\":\"1153\"},\"ticker\":{\"id\":\"1118\"}},\"id\":\"1117\",\"type\":\"LinearAxis\"},{\"attributes\":{\"source\":{\"id\":\"1002\"}},\"id\":\"1139\",\"type\":\"CDSView\"},{\"attributes\":{},\"id\":\"1109\",\"type\":\"LinearScale\"},{\"attributes\":{\"formatter\":{\"id\":\"1154\"},\"major_label_policy\":{\"id\":\"1156\"},\"ticker\":{\"id\":\"1114\"}},\"id\":\"1113\",\"type\":\"LinearAxis\"},{\"attributes\":{\"axis\":{\"id\":\"1113\"},\"ticker\":null},\"id\":\"1116\",\"type\":\"Grid\"}],\"root_ids\":[\"1102\"]},\"title\":\"Bokeh Application\",\"version\":\"2.3.1\"}};\n",
       "  var render_items = [{\"docid\":\"eb9942a7-0cda-4eb2-a67e-7bd39d89e175\",\"root_ids\":[\"1102\"],\"roots\":{\"1102\":\"218bb890-577e-45b4-bc6f-2a0736b90e30\"}}];\n",
       "  root.Bokeh.embed.embed_items_notebook(docs_json, render_items);\n",
       "\n",
       "  }\n",
       "  if (root.Bokeh !== undefined) {\n",
       "    embed_document(root);\n",
       "  } else {\n",
       "    var attempts = 0;\n",
       "    var timer = setInterval(function(root) {\n",
       "      if (root.Bokeh !== undefined) {\n",
       "        clearInterval(timer);\n",
       "        embed_document(root);\n",
       "      } else {\n",
       "        attempts++;\n",
       "        if (attempts > 100) {\n",
       "          clearInterval(timer);\n",
       "          console.log(\"Bokeh: ERROR: Unable to run BokehJS code because BokehJS library is missing\");\n",
       "        }\n",
       "      }\n",
       "    }, 10, root)\n",
       "  }\n",
       "})(window);"
      ],
      "application/vnd.bokehjs_exec.v0+json": ""
     },
     "metadata": {
      "application/vnd.bokehjs_exec.v0+json": {
       "id": "1102"
      }
     },
     "output_type": "display_data"
    }
   ],
   "source": [
    "p = figure(\n",
    "    plot_width=800, plot_height=300,\n",
    "    title = mainTitle\n",
    "    )\n",
    "\n",
    "p.line(\n",
    "    x = 'mz', y = 'Intensity',\n",
    "    source = cds,\n",
    "    color = '#324ea8',# alpha = 0.8,\n",
    "    line_width = 2\n",
    "    )\n",
    "\n",
    "show(p)"
   ]
  },
  {
   "cell_type": "markdown",
   "metadata": {},
   "source": [
    "Let's modify the line, so that it adopts the expected shape, but stays continuous"
   ]
  },
  {
   "cell_type": "code",
   "execution_count": 9,
   "metadata": {},
   "outputs": [
    {
     "data": {
      "text/html": [
       "<div>\n",
       "<style scoped>\n",
       "    .dataframe tbody tr th:only-of-type {\n",
       "        vertical-align: middle;\n",
       "    }\n",
       "\n",
       "    .dataframe tbody tr th {\n",
       "        vertical-align: top;\n",
       "    }\n",
       "\n",
       "    .dataframe thead th {\n",
       "        text-align: right;\n",
       "    }\n",
       "</style>\n",
       "<table border=\"1\" class=\"dataframe\">\n",
       "  <thead>\n",
       "    <tr style=\"text-align: right;\">\n",
       "      <th></th>\n",
       "      <th>mz</th>\n",
       "      <th>Intensity</th>\n",
       "    </tr>\n",
       "  </thead>\n",
       "  <tbody>\n",
       "    <tr>\n",
       "      <th>0</th>\n",
       "      <td>101.07090</td>\n",
       "      <td>0.00</td>\n",
       "    </tr>\n",
       "    <tr>\n",
       "      <th>1</th>\n",
       "      <td>101.07090</td>\n",
       "      <td>3075.85</td>\n",
       "    </tr>\n",
       "    <tr>\n",
       "      <th>2</th>\n",
       "      <td>101.07090</td>\n",
       "      <td>0.00</td>\n",
       "    </tr>\n",
       "    <tr>\n",
       "      <th>3</th>\n",
       "      <td>102.05305</td>\n",
       "      <td>0.00</td>\n",
       "    </tr>\n",
       "    <tr>\n",
       "      <th>4</th>\n",
       "      <td>102.05305</td>\n",
       "      <td>650.02</td>\n",
       "    </tr>\n",
       "    <tr>\n",
       "      <th>5</th>\n",
       "      <td>102.05305</td>\n",
       "      <td>0.00</td>\n",
       "    </tr>\n",
       "    <tr>\n",
       "      <th>6</th>\n",
       "      <td>102.05502</td>\n",
       "      <td>0.00</td>\n",
       "    </tr>\n",
       "  </tbody>\n",
       "</table>\n",
       "</div>"
      ],
      "text/plain": [
       "          mz  Intensity\n",
       "0  101.07090       0.00\n",
       "1  101.07090    3075.85\n",
       "2  101.07090       0.00\n",
       "3  102.05305       0.00\n",
       "4  102.05305     650.02\n",
       "5  102.05305       0.00\n",
       "6  102.05502       0.00"
      ]
     },
     "execution_count": 9,
     "metadata": {},
     "output_type": "execute_result"
    }
   ],
   "source": [
    "#Triple the points on the m/z axis\n",
    "mzTransformed = [ (x, x, x) for x in df['mz'] ]\n",
    "#Flatten the list of tuples for the m/z axis\n",
    "mzTransformed = [ x for y in mzTransformed for x in y ]\n",
    "#Create the vertical bars for each intensity value\n",
    "intensTransformed = [ (0, x, 0) for x in df['Intensity'] ]\n",
    "#Flatten the list of tuples for the intensity axis\n",
    "intensTransformed = [ x for y in intensTransformed for x in y ]\n",
    "df2 = pd.DataFrame(\n",
    "    {\n",
    "        'mz': mzTransformed,\n",
    "        'Intensity': intensTransformed\n",
    "    }\n",
    ")\n",
    "df2.head(7)"
   ]
  },
  {
   "cell_type": "code",
   "execution_count": 11,
   "metadata": {},
   "outputs": [
    {
     "data": {
      "text/plain": [
       "<AxesSubplot:xlabel='mz'>"
      ]
     },
     "execution_count": 11,
     "metadata": {},
     "output_type": "execute_result"
    },
    {
     "data": {
      "image/png": "[encoded data removed]",
      "text/plain": [
       "<Figure size 1080x288 with 1 Axes>"
      ]
     },
     "metadata": {
      "needs_background": "light"
     },
     "output_type": "display_data"
    }
   ],
   "source": [
    "df2.plot(x='mz', y='Intensity', figsize=(15, 4))"
   ]
  },
  {
   "cell_type": "code",
   "execution_count": 10,
   "metadata": {},
   "outputs": [
    {
     "data": {
      "text/html": [
       "\n",
       "\n",
       "\n",
       "\n",
       "\n",
       "\n",
       "  <div class=\"bk-root\" id=\"cf2d04a8-960a-4eeb-9877-fa5e07f6bb8e\" data-root-id=\"1211\"></div>\n"
      ]
     },
     "metadata": {},
     "output_type": "display_data"
    },
    {
     "data": {
      "application/javascript": [
       "(function(root) {\n",
       "  function embed_document(root) {\n",
       "    \n",
       "  var docs_json = {\"663c95c0-9f99-4832-979d-200200b6db1e\":{\"defs\":[],\"roots\":{\"references\":[{\"attributes\":{\"below\":[{\"id\":\"1222\"}],\"center\":[{\"id\":\"1225\"},{\"id\":\"1229\"},{\"id\":\"1254\"}],\"height\":300,\"left\":[{\"id\":\"1226\"}],\"renderers\":[{\"id\":\"1247\"},{\"id\":\"1252\"}],\"title\":{\"id\":\"1212\"},\"toolbar\":{\"id\":\"1237\"},\"width\":800,\"x_range\":{\"id\":\"1214\"},\"x_scale\":{\"id\":\"1218\"},\"y_range\":{\"id\":\"1216\"},\"y_scale\":{\"id\":\"1220\"}},\"id\":\"1211\",\"subtype\":\"Figure\",\"type\":\"Plot\"},{\"attributes\":{},\"id\":\"1279\",\"type\":\"AllLabels\"},{\"attributes\":{\"data\":{\"Intensity\":{\"__ndarray__\":\"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\",\"dtype\":\"float64\",\"order\":\"little\",\"shape\":[1431]},\"index\":[0,1,2,3,4,5,6,7,8,9,10,11,12,13,14,15,16,17,18,19,20,21,22,23,24,25,26,27,28,29,30,31,32,33,34,35,36,37,38,39,40,41,42,43,44,45,46,47,48,49,50,51,52,53,54,55,56,57,58,59,60,61,62,63,64,65,66,67,68,69,70,71,72,73,74,75,76,77,78,79,80,81,82,83,84,85,86,87,88,89,90,91,92,93,94,95,96,97,98,99,100,101,102,103,104,105,106,107,108,109,110,111,112,113,114,115,116,117,118,119,120,121,122,123,124,125,126,127,128,129,130,131,132,133,134,135,136,137,138,139,140,141,142,143,144,145,146,147,148,149,150,151,152,153,154,155,156,157,158,159,160,161,162,163,164,165,166,167,168,169,170,171,172,173,174,175,176,177,178,179,180,181,182,183,184,185,186,187,188,189,190,191,192,193,194,195,196,197,198,199,200,201,202,203,204,205,206,207,208,209,210,211,212,213,214,215,216,217,218,219,220,221,222,223,224,225,226,227,228,229,230,231,232,233,234,235,236,237,238,239,240,241,242,243,244,245,246,247,248,249,250,251,252,253,254,255,256,257,258,259,260,261,262,263,264,265,266,267,268,269,270,271,272,273,274,275,276,277,278,279,280,281,282,283,284,285,286,287,288,289,290,291,292,293,294,295,296,297,298,299,300,301,302,303,304,305,306,307,308,309,310,311,312,313,314,315,316,317,318,319,320,321,322,323,324,325,326,327,328,329,330,331,332,333,334,335,336,337,338,339,340,341,342,343,344,345,346,347,348,349,350,351,352,353,354,355,356,357,358,359,360,361,362,363,364,365,366,367,368,369,370,371,372,373,374,375,376,377,378,379,380,381,382,383,384,385,386,387,388,389,390,391,392,393,394,395,396,397,398,399,400,401,402,403,404,405,406,407,408,409,410,411,412,413,414,415,416,417,418,419,420,421,422,423,424,425,426,427,428,429,430,431,432,433,434,435,436,437,438,439,440,441,442,443,444,445,446,447,448,449,450,451,452,453,454,455,456,457,458,459,460,461,462,463,464,465,466,467,468,469,470,471,472,473,474,475,476,477,478,479,480,481,482,483,484,485,486,487,488,489,490,491,492,493,494,495,496,497,498,499,500,501,502,503,504,505,506,507,508,509,510,511,512,513,514,515,516,517,518,519,520,521,522,523,524,525,526,527,528,529,530,531,532,533,534,535,536,537,538,539,540,541,542,543,544,545,546,547,548,549,550,551,552,553,554,555,556,557,558,559,560,561,562,563,564,565,566,567,568,569,570,571,572,573,574,575,576,577,578,579,580,581,582,583,584,585,586,587,588,589,590,591,592,593,594,595,596,597,598,599,600,601,602,603,604,605,606,607,608,609,610,611,612,613,614,615,616,617,618,619,620,621,622,623,624,625,626,627,628,629,630,631,632,633,634,635,636,637,638,639,640,641,642,643,644,645,646,647,648,649,650,651,652,653,654,655,656,657,658,659,660,661,662,663,664,665,666,667,668,669,670,671,672,673,674,675,676,677,678,679,680,681,682,683,684,685,686,687,688,689,690,691,692,693,694,695,696,697,698,699,700,701,702,703,704,705,706,707,708,709,710,711,712,713,714,715,716,717,718,719,720,721,722,723,724,725,726,727,728,729,730,731,732,733,734,735,736,737,738,739,740,741,742,743,744,745,746,747,748,749,750,751,752,753,754,755,756,757,758,759,760,761,762,763,764,765,766,767,768,769,770,771,772,773,774,775,776,777,778,779,780,781,782,783,784,785,786,787,788,789,790,791,792,793,794,795,796,797,798,799,800,801,802,803,804,805,806,807,808,809,810,811,812,813,814,815,816,817,818,819,820,821,822,823,824,825,826,827,828,829,830,831,832,833,834,835,836,837,838,839,840,841,842,843,844,845,846,847,848,849,850,851,852,853,854,855,856,857,858,859,860,861,862,863,864,865,866,867,868,869,870,871,872,873,874,875,876,877,878,879,880,881,882,883,884,885,886,887,888,889,890,891,892,893,894,895,896,897,898,899,900,901,902,903,904,905,906,907,908,909,910,911,912,913,914,915,916,917,918,919,920,921,922,923,924,925,926,927,928,929,930,931,932,933,934,935,936,937,938,939,940,941,942,943,944,945,946,947,948,949,950,951,952,953,954,955,956,957,958,959,960,961,962,963,964,965,966,967,968,969,970,971,972,973,974,975,976,977,978,979,980,981,982,983,984,985,986,987,988,989,990,991,992,993,994,995,996,997,998,999,1000,1001,1002,1003,1004,1005,1006,1007,1008,1009,1010,1011,1012,1013,1014,1015,1016,1017,1018,1019,1020,1021,1022,1023,1024,1025,1026,1027,1028,1029,1030,1031,1032,1033,1034,1035,1036,1037,1038,1039,1040,1041,1042,1043,1044,1045,1046,1047,1048,1049,1050,1051,1052,1053,1054,1055,1056,1057,1058,1059,1060,1061,1062,1063,1064,1065,1066,1067,1068,1069,1070,1071,1072,1073,1074,1075,1076,1077,1078,1079,1080,1081,1082,1083,1084,1085,1086,1087,1088,1089,1090,1091,1092,1093,1094,1095,1096,1097,1098,1099,1100,1101,1102,1103,1104,1105,1106,1107,1108,1109,1110,1111,1112,1113,1114,1115,1116,1117,1118,1119,1120,1121,1122,1123,1124,1125,1126,1127,1128,1129,1130,1131,1132,1133,1134,1135,1136,1137,1138,1139,1140,1141,1142,1143,1144,1145,1146,1147,1148,1149,1150,1151,1152,1153,1154,1155,1156,1157,1158,1159,1160,1161,1162,1163,1164,1165,1166,1167,1168,1169,1170,1171,1172,1173,1174,1175,1176,1177,1178,1179,1180,1181,1182,1183,1184,1185,1186,1187,1188,1189,1190,1191,1192,1193,1194,1195,1196,1197,1198,1199,1200,1201,1202,1203,1204,1205,1206,1207,1208,1209,1210,1211,1212,1213,1214,1215,1216,1217,1218,1219,1220,1221,1222,1223,1224,1225,1226,1227,1228,1229,1230,1231,1232,1233,1234,1235,1236,1237,1238,1239,1240,1241,1242,1243,1244,1245,1246,1247,1248,1249,1250,1251,1252,1253,1254,1255,1256,1257,1258,1259,1260,1261,1262,1263,1264,1265,1266,1267,1268,1269,1270,1271,1272,1273,1274,1275,1276,1277,1278,1279,1280,1281,1282,1283,1284,1285,1286,1287,1288,1289,1290,1291,1292,1293,1294,1295,1296,1297,1298,1299,1300,1301,1302,1303,1304,1305,1306,1307,1308,1309,1310,1311,1312,1313,1314,1315,1316,1317,1318,1319,1320,1321,1322,1323,1324,1325,1326,1327,1328,1329,1330,1331,1332,1333,1334,1335,1336,1337,1338,1339,1340,1341,1342,1343,1344,1345,1346,1347,1348,1349,1350,1351,1352,1353,1354,1355,1356,1357,1358,1359,1360,1361,1362,1363,1364,1365,1366,1367,1368,1369,1370,1371,1372,1373,1374,1375,1376,1377,1378,1379,1380,1381,1382,1383,1384,1385,1386,1387,1388,1389,1390,1391,1392,1393,1394,1395,1396,1397,1398,1399,1400,1401,1402,1403,1404,1405,1406,1407,1408,1409,1410,1411,1412,1413,1414,1415,1416,1417,1418,1419,1420,1421,1422,1423,1424,1425,1426,1427,1428,1429,1430],\"mz\":{\"__ndarray__\":\"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\",\"dtype\":\"float64\",\"order\":\"little\",\"shape\":[1431]}},\"selected\":{\"id\":\"1284\"},\"selection_policy\":{\"id\":\"1285\"}},\"id\":\"1210\",\"type\":\"ColumnDataSource\"},{\"attributes\":{\"bottom_units\":\"screen\",\"fill_alpha\":0.5,\"fill_color\":\"lightgrey\",\"left_units\":\"screen\",\"level\":\"overlay\",\"line_alpha\":1.0,\"line_color\":\"black\",\"line_dash\":[4,4],\"line_width\":2,\"right_units\":\"screen\",\"syncable\":false,\"top_units\":\"screen\"},\"id\":\"1235\",\"type\":\"BoxAnnotation\"},{\"attributes\":{\"line_alpha\":0.5,\"line_color\":\"#198c43\",\"line_dash\":[6],\"line_width\":4,\"x\":{\"field\":\"x\"},\"y\":{\"field\":\"y\"}},\"id\":\"1250\",\"type\":\"Line\"},{\"attributes\":{\"data\":{\"x\":[939.88733,939.88733],\"y\":[0,172155.6]},\"selected\":{\"id\":\"1286\"},\"selection_policy\":{\"id\":\"1287\"}},\"id\":\"1249\",\"type\":\"ColumnDataSource\"},{\"attributes\":{\"axis_label\":\"Fragment m/z\",\"axis_label_text_font_size\":\"10pt\",\"formatter\":{\"id\":\"1280\"},\"major_label_policy\":{\"id\":\"1282\"},\"major_label_text_font_size\":\"9pt\",\"ticker\":{\"id\":\"1223\"}},\"id\":\"1222\",\"type\":\"LinearAxis\"},{\"attributes\":{\"axis_label\":\"Intensity\",\"axis_label_text_font_size\":\"10pt\",\"formatter\":{\"id\":\"1255\"},\"major_label_policy\":{\"id\":\"1279\"},\"major_label_text_font_size\":\"9pt\",\"ticker\":{\"id\":\"1227\"}},\"id\":\"1226\",\"type\":\"LinearAxis\"},{\"attributes\":{\"text\":\"Peptide Fragmentation Mass Spectrum\"},\"id\":\"1212\",\"type\":\"Title\"},{\"attributes\":{},\"id\":\"1214\",\"type\":\"DataRange1d\"},{\"attributes\":{},\"id\":\"1284\",\"type\":\"Selection\"},{\"attributes\":{},\"id\":\"1285\",\"type\":\"UnionRenderers\"},{\"attributes\":{},\"id\":\"1218\",\"type\":\"LinearScale\"},{\"attributes\":{},\"id\":\"1216\",\"type\":\"DataRange1d\"},{\"attributes\":{},\"id\":\"1223\",\"type\":\"BasicTicker\"},{\"attributes\":{},\"id\":\"1220\",\"type\":\"LinearScale\"},{\"attributes\":{\"axis\":{\"id\":\"1222\"},\"ticker\":null},\"id\":\"1225\",\"type\":\"Grid\"},{\"attributes\":{\"line_alpha\":0.1,\"line_color\":\"#198c43\",\"line_dash\":[6],\"line_width\":4,\"x\":{\"field\":\"x\"},\"y\":{\"field\":\"y\"}},\"id\":\"1251\",\"type\":\"Line\"},{\"attributes\":{},\"id\":\"1227\",\"type\":\"BasicTicker\"},{\"attributes\":{\"axis\":{\"id\":\"1226\"},\"dimension\":1,\"ticker\":null},\"id\":\"1229\",\"type\":\"Grid\"},{\"attributes\":{\"active_multi\":null,\"tools\":[{\"id\":\"1230\"},{\"id\":\"1231\"},{\"id\":\"1232\"},{\"id\":\"1233\"},{\"id\":\"1234\"},{\"id\":\"1236\"}]},\"id\":\"1237\",\"type\":\"Toolbar\"},{\"attributes\":{\"line_alpha\":0.1,\"line_color\":\"#324ea8\",\"line_width\":2,\"x\":{\"field\":\"mz\"},\"y\":{\"field\":\"Intensity\"}},\"id\":\"1246\",\"type\":\"Line\"},{\"attributes\":{\"callback\":null,\"tooltips\":[[\"m/z\",\"@mz{0.0000}\"],[\"Int\",\"@Intensity\"]]},\"id\":\"1236\",\"type\":\"HoverTool\"},{\"attributes\":{},\"id\":\"1233\",\"type\":\"UndoTool\"},{\"attributes\":{},\"id\":\"1286\",\"type\":\"Selection\"},{\"attributes\":{\"dimensions\":\"width\"},\"id\":\"1231\",\"type\":\"PanTool\"},{\"attributes\":{},\"id\":\"1287\",\"type\":\"UnionRenderers\"},{\"attributes\":{\"dimensions\":\"width\"},\"id\":\"1230\",\"type\":\"WheelZoomTool\"},{\"attributes\":{\"source\":{\"id\":\"1210\"}},\"id\":\"1248\",\"type\":\"CDSView\"},{\"attributes\":{\"overlay\":{\"id\":\"1235\"}},\"id\":\"1232\",\"type\":\"BoxZoomTool\"},{\"attributes\":{\"data_source\":{\"id\":\"1210\"},\"glyph\":{\"id\":\"1245\"},\"hover_glyph\":null,\"muted_glyph\":null,\"nonselection_glyph\":{\"id\":\"1246\"},\"view\":{\"id\":\"1248\"}},\"id\":\"1247\",\"type\":\"GlyphRenderer\"},{\"attributes\":{},\"id\":\"1234\",\"type\":\"ResetTool\"},{\"attributes\":{\"source\":{\"id\":\"1249\"}},\"id\":\"1253\",\"type\":\"CDSView\"},{\"attributes\":{\"format\":\"0.\"},\"id\":\"1255\",\"type\":\"NumeralTickFormatter\"},{\"attributes\":{\"data_source\":{\"id\":\"1249\"},\"glyph\":{\"id\":\"1250\"},\"hover_glyph\":null,\"muted_glyph\":null,\"nonselection_glyph\":{\"id\":\"1251\"},\"view\":{\"id\":\"1253\"}},\"id\":\"1252\",\"type\":\"GlyphRenderer\"},{\"attributes\":{},\"id\":\"1280\",\"type\":\"BasicTickFormatter\"},{\"attributes\":{\"text\":\"Precursor 939.88733, 5+\",\"text_color\":\"#198c43\",\"text_font_size\":\"10pt\",\"x\":939.88733,\"y\":177894.12},\"id\":\"1254\",\"type\":\"Label\"},{\"attributes\":{\"line_color\":\"#324ea8\",\"line_width\":2,\"x\":{\"field\":\"mz\"},\"y\":{\"field\":\"Intensity\"}},\"id\":\"1245\",\"type\":\"Line\"},{\"attributes\":{},\"id\":\"1282\",\"type\":\"AllLabels\"}],\"root_ids\":[\"1211\"]},\"title\":\"Bokeh Application\",\"version\":\"2.3.1\"}};\n",
       "  var render_items = [{\"docid\":\"663c95c0-9f99-4832-979d-200200b6db1e\",\"root_ids\":[\"1211\"],\"roots\":{\"1211\":\"cf2d04a8-960a-4eeb-9877-fa5e07f6bb8e\"}}];\n",
       "  root.Bokeh.embed.embed_items_notebook(docs_json, render_items);\n",
       "\n",
       "  }\n",
       "  if (root.Bokeh !== undefined) {\n",
       "    embed_document(root);\n",
       "  } else {\n",
       "    var attempts = 0;\n",
       "    var timer = setInterval(function(root) {\n",
       "      if (root.Bokeh !== undefined) {\n",
       "        clearInterval(timer);\n",
       "        embed_document(root);\n",
       "      } else {\n",
       "        attempts++;\n",
       "        if (attempts > 100) {\n",
       "          clearInterval(timer);\n",
       "          console.log(\"Bokeh: ERROR: Unable to run BokehJS code because BokehJS library is missing\");\n",
       "        }\n",
       "      }\n",
       "    }, 10, root)\n",
       "  }\n",
       "})(window);"
      ],
      "application/vnd.bokehjs_exec.v0+json": ""
     },
     "metadata": {
      "application/vnd.bokehjs_exec.v0+json": {
       "id": "1211"
      }
     },
     "output_type": "display_data"
    }
   ],
   "source": [
    "#output_file('msms_tmt_spectrum2.html')\n",
    "mainTitle = 'Peptide Fragmentation Mass Spectrum'\n",
    "cds = ColumnDataSource(data=df2)\n",
    "\n",
    "p = create_p()\n",
    "\n",
    "maxIntens = df2['Intensity'].max()\n",
    "\n",
    "p.line(\n",
    "    'mz', 'Intensity',\n",
    "    source = cds,\n",
    "    color = '#324ea8',# alpha = 0.8,\n",
    "    line_width = 2\n",
    "    )\n",
    "#Add the precursor info as a dashed line with a label\n",
    "p.line(\n",
    "    [precMZ, precMZ], [0, maxIntens*0.9],\n",
    "    line_dash = 'dashed', line_width = 4,\n",
    "    color = '#198c43', alpha = 0.5,\n",
    "    )\n",
    "p.add_layout(\n",
    "    Label(\n",
    "        x = precMZ, y = maxIntens*0.93,\n",
    "        text = f'Precursor {precMZ}, {precCh}+',\n",
    "        text_font_size = '10pt',\n",
    "        text_color = '#198c43'\n",
    "        )\n",
    "    )\n",
    "\n",
    "#Format the axis labels\n",
    "p.xaxis.axis_label = 'Fragment m/z'\n",
    "p.xaxis.axis_label_text_font_size = '10pt'\n",
    "p.xaxis.major_label_text_font_size = '9pt'\n",
    "\n",
    "p.yaxis.axis_label = 'Intensity'\n",
    "p.yaxis.axis_label_text_font_size = '10pt'\n",
    "p.yaxis.major_label_text_font_size = '9pt'\n",
    "p.yaxis.formatter = NumeralTickFormatter(format='0.')\n",
    "\n",
    "show(p)"
   ]
  },
  {
   "cell_type": "markdown",
   "metadata": {},
   "source": [
    "<h3>What if the signals are not al the same?</h3>"
   ]
  },
  {
   "cell_type": "markdown",
   "metadata": {},
   "source": [
    "Download the same spectrum with annotations"
   ]
  },
  {
   "cell_type": "code",
   "execution_count": 11,
   "metadata": {},
   "outputs": [
    {
     "name": "stdout",
     "output_type": "stream",
     "text": [
      "(477, 3)\n"
     ]
    },
    {
     "data": {
      "text/html": [
       "<div>\n",
       "<style scoped>\n",
       "    .dataframe tbody tr th:only-of-type {\n",
       "        vertical-align: middle;\n",
       "    }\n",
       "\n",
       "    .dataframe tbody tr th {\n",
       "        vertical-align: top;\n",
       "    }\n",
       "\n",
       "    .dataframe thead th {\n",
       "        text-align: right;\n",
       "    }\n",
       "</style>\n",
       "<table border=\"1\" class=\"dataframe\">\n",
       "  <thead>\n",
       "    <tr style=\"text-align: right;\">\n",
       "      <th></th>\n",
       "      <th>mz</th>\n",
       "      <th>Intensity</th>\n",
       "      <th>Annotation</th>\n",
       "    </tr>\n",
       "  </thead>\n",
       "  <tbody>\n",
       "    <tr>\n",
       "      <th>0</th>\n",
       "      <td>101.07090</td>\n",
       "      <td>3075.85</td>\n",
       "      <td>Unknown</td>\n",
       "    </tr>\n",
       "    <tr>\n",
       "      <th>1</th>\n",
       "      <td>102.05305</td>\n",
       "      <td>650.02</td>\n",
       "      <td>Unknown</td>\n",
       "    </tr>\n",
       "    <tr>\n",
       "      <th>2</th>\n",
       "      <td>102.05502</td>\n",
       "      <td>7881.04</td>\n",
       "      <td>Unknown</td>\n",
       "    </tr>\n",
       "  </tbody>\n",
       "</table>\n",
       "</div>"
      ],
      "text/plain": [
       "          mz  Intensity Annotation\n",
       "0  101.07090    3075.85    Unknown\n",
       "1  102.05305     650.02    Unknown\n",
       "2  102.05502    7881.04    Unknown"
      ]
     },
     "execution_count": 11,
     "metadata": {},
     "output_type": "execute_result"
    }
   ],
   "source": [
    "dfA = pd.read_csv('tmt_spectrum_annotated.csv', sep=',')\n",
    "print(dfA.shape)\n",
    "dfA.head(3)"
   ]
  },
  {
   "cell_type": "markdown",
   "metadata": {},
   "source": [
    "There are 3 categories of signals:"
   ]
  },
  {
   "cell_type": "code",
   "execution_count": 12,
   "metadata": {},
   "outputs": [
    {
     "data": {
      "text/plain": [
       "array(['Unknown', 'Identified', 'Contaminant'], dtype=object)"
      ]
     },
     "execution_count": 12,
     "metadata": {},
     "output_type": "execute_result"
    }
   ],
   "source": [
    "dfA['Annotation'].unique()"
   ]
  },
  {
   "cell_type": "code",
   "execution_count": 13,
   "metadata": {},
   "outputs": [
    {
     "data": {
      "text/html": [
       "<div>\n",
       "<style scoped>\n",
       "    .dataframe tbody tr th:only-of-type {\n",
       "        vertical-align: middle;\n",
       "    }\n",
       "\n",
       "    .dataframe tbody tr th {\n",
       "        vertical-align: top;\n",
       "    }\n",
       "\n",
       "    .dataframe thead th {\n",
       "        text-align: right;\n",
       "    }\n",
       "</style>\n",
       "<table border=\"1\" class=\"dataframe\">\n",
       "  <thead>\n",
       "    <tr style=\"text-align: right;\">\n",
       "      <th></th>\n",
       "      <th>mz</th>\n",
       "      <th>Intensity</th>\n",
       "      <th>Annotation</th>\n",
       "    </tr>\n",
       "  </thead>\n",
       "  <tbody>\n",
       "    <tr>\n",
       "      <th>0</th>\n",
       "      <td>101.07090</td>\n",
       "      <td>0.00</td>\n",
       "      <td>Unknown</td>\n",
       "    </tr>\n",
       "    <tr>\n",
       "      <th>1</th>\n",
       "      <td>101.07090</td>\n",
       "      <td>3075.85</td>\n",
       "      <td>Unknown</td>\n",
       "    </tr>\n",
       "    <tr>\n",
       "      <th>2</th>\n",
       "      <td>101.07090</td>\n",
       "      <td>0.00</td>\n",
       "      <td>Unknown</td>\n",
       "    </tr>\n",
       "    <tr>\n",
       "      <th>3</th>\n",
       "      <td>102.05305</td>\n",
       "      <td>0.00</td>\n",
       "      <td>Unknown</td>\n",
       "    </tr>\n",
       "    <tr>\n",
       "      <th>4</th>\n",
       "      <td>102.05305</td>\n",
       "      <td>650.02</td>\n",
       "      <td>Unknown</td>\n",
       "    </tr>\n",
       "    <tr>\n",
       "      <th>5</th>\n",
       "      <td>102.05305</td>\n",
       "      <td>0.00</td>\n",
       "      <td>Unknown</td>\n",
       "    </tr>\n",
       "    <tr>\n",
       "      <th>6</th>\n",
       "      <td>102.05502</td>\n",
       "      <td>0.00</td>\n",
       "      <td>Unknown</td>\n",
       "    </tr>\n",
       "  </tbody>\n",
       "</table>\n",
       "</div>"
      ],
      "text/plain": [
       "          mz  Intensity Annotation\n",
       "0  101.07090       0.00    Unknown\n",
       "1  101.07090    3075.85    Unknown\n",
       "2  101.07090       0.00    Unknown\n",
       "3  102.05305       0.00    Unknown\n",
       "4  102.05305     650.02    Unknown\n",
       "5  102.05305       0.00    Unknown\n",
       "6  102.05502       0.00    Unknown"
      ]
     },
     "execution_count": 13,
     "metadata": {},
     "output_type": "execute_result"
    }
   ],
   "source": [
    "mzTransformed = [ (x, x, x) for x in dfA['mz'] ]\n",
    "mzTransformed = [ x for y in mzTransformed for x in y ]\n",
    "intensTransformed = [ (0, x, 0) for x in dfA['Intensity'] ]\n",
    "intensTransformed = [ x for y in intensTransformed for x in y ]\n",
    "annotTransformed = [ (x, x, x) for x in dfA['Annotation'] ]\n",
    "annotTransformed = [ x for y in annotTransformed for x in y ]\n",
    "dfA2 = pd.DataFrame(\n",
    "    {\n",
    "        'mz': mzTransformed,\n",
    "        'Intensity': intensTransformed,\n",
    "        'Annotation': annotTransformed\n",
    "    }\n",
    ")\n",
    "dfA2.head(7)"
   ]
  },
  {
   "cell_type": "code",
   "execution_count": 14,
   "metadata": {},
   "outputs": [
    {
     "name": "stdout",
     "output_type": "stream",
     "text": [
      "[(0, 'Unknown', ColumnDataSource(id='1343', ...)), (1, 'Identified', ColumnDataSource(id='1344', ...)), (2, 'Contaminant', ColumnDataSource(id='1345', ...))]\n"
     ]
    },
    {
     "data": {
      "text/html": [
       "\n",
       "\n",
       "\n",
       "\n",
       "\n",
       "\n",
       "  <div class=\"bk-root\" id=\"3591c9ba-2bdb-41b8-9774-51b6a31bacbb\" data-root-id=\"1346\"></div>\n"
      ]
     },
     "metadata": {},
     "output_type": "display_data"
    },
    {
     "data": {
      "application/javascript": [
       "(function(root) {\n",
       "  function embed_document(root) {\n",
       "    \n",
       "  var docs_json = {\"013ef899-6836-49ce-8749-4b90f0119671\":{\"defs\":[],\"roots\":{\"references\":[{\"attributes\":{\"below\":[{\"id\":\"1357\"}],\"center\":[{\"id\":\"1360\"},{\"id\":\"1364\"},{\"id\":\"1394\"},{\"id\":\"1444\"}],\"height\":300,\"left\":[{\"id\":\"1361\"}],\"renderers\":[{\"id\":\"1382\"},{\"id\":\"1399\"},{\"id\":\"1417\"},{\"id\":\"1437\"},{\"id\":\"1442\"}],\"title\":{\"id\":\"1347\"},\"toolbar\":{\"id\":\"1372\"},\"width\":800,\"x_range\":{\"id\":\"1349\"},\"x_scale\":{\"id\":\"1353\"},\"y_range\":{\"id\":\"1351\"},\"y_scale\":{\"id\":\"1355\"}},\"id\":\"1346\",\"subtype\":\"Figure\",\"type\":\"Plot\"},{\"attributes\":{\"axis_label\":\"Intensity\",\"axis_label_text_font_size\":\"10pt\",\"formatter\":{\"id\":\"1445\"},\"major_label_policy\":{\"id\":\"1387\"},\"major_label_text_font_size\":\"9pt\",\"ticker\":{\"id\":\"1362\"}},\"id\":\"1361\",\"type\":\"LinearAxis\"},{\"attributes\":{\"data_source\":{\"id\":\"1439\"},\"glyph\":{\"id\":\"1440\"},\"hover_glyph\":null,\"muted_glyph\":null,\"nonselection_glyph\":{\"id\":\"1441\"},\"view\":{\"id\":\"1443\"}},\"id\":\"1442\",\"type\":\"GlyphRenderer\"},{\"attributes\":{\"axis\":{\"id\":\"1361\"},\"dimension\":1,\"ticker\":null},\"id\":\"1364\",\"type\":\"Grid\"},{\"attributes\":{},\"id\":\"1388\",\"type\":\"BasicTickFormatter\"},{\"attributes\":{},\"id\":\"1362\",\"type\":\"BasicTicker\"},{\"attributes\":{\"format\":\"0.\"},\"id\":\"1445\",\"type\":\"NumeralTickFormatter\"},{\"attributes\":{\"callback\":null,\"tooltips\":[[\"m/z\",\"@mz{0.0000}\"],[\"Int\",\"@Intensity\"]]},\"id\":\"1371\",\"type\":\"HoverTool\"},{\"attributes\":{},\"id\":\"1368\",\"type\":\"UndoTool\"},{\"attributes\":{\"dimensions\":\"width\"},\"id\":\"1366\",\"type\":\"PanTool\"},{\"attributes\":{\"dimensions\":\"width\"},\"id\":\"1365\",\"type\":\"WheelZoomTool\"},{\"attributes\":{\"click_policy\":\"hide\",\"items\":[{\"id\":\"1395\"},{\"id\":\"1413\"},{\"id\":\"1433\"}],\"title\":\"Signal Type\"},\"id\":\"1394\",\"type\":\"Legend\"},{\"attributes\":{},\"id\":\"1411\",\"type\":\"Selection\"},{\"attributes\":{\"overlay\":{\"id\":\"1370\"}},\"id\":\"1367\",\"type\":\"BoxZoomTool\"},{\"attributes\":{\"data\":{\"Annotation\":[\"Identified\",\"Identified\",\"Identified\",\"Identified\",\"Identified\",\"Identified\",\"Identified\",\"Identified\",\"Identified\",\"Identified\",\"Identified\",\"Identified\",\"Identified\",\"Identified\",\"Identified\",\"Identified\",\"Identified\",\"Identified\",\"Identified\",\"Identified\",\"Identified\",\"Identified\",\"Identified\",\"Identified\",\"Identified\",\"Identified\",\"Identified\",\"Identified\",\"Identified\",\"Identified\",\"Identified\",\"Identified\",\"Identified\",\"Identified\",\"Identified\",\"Identified\",\"Identified\",\"Identified\",\"Identified\",\"Identified\",\"Identified\",\"Identified\",\"Identified\",\"Identified\",\"Identified\",\"Identified\",\"Identified\",\"Identified\",\"Identified\",\"Identified\",\"Identified\",\"Identified\",\"Identified\",\"Identified\",\"Identified\",\"Identified\",\"Identified\",\"Identified\",\"Identified\",\"Identified\",\"Identified\",\"Identified\",\"Identified\",\"Identified\",\"Identified\",\"Identified\",\"Identified\",\"Identified\",\"Identified\",\"Identified\",\"Identified\",\"Identified\",\"Identified\",\"Identified\",\"Identified\",\"Identified\",\"Identified\",\"Identified\",\"Identified\",\"Identified\",\"Identified\",\"Identified\",\"Identified\",\"Identified\",\"Identified\",\"Identified\",\"Identified\",\"Identified\",\"Identified\",\"Identified\"],\"Intensity\":{\"__ndarray__\":\"AAAAAAAAAABmZmZmBvHkQAAAAAAAAAAAAAAAAAAAAAAAAAAAwCHjQAAAAAAAAAAAAAAAAAAAAAAzMzMzk0fhQAAAAAAAAAAAAAAAAAAAAABmZmZmFubmQAAAAAAAAAAAAAAAAAAAAAAzMzMz8w3lQAAAAAAAAAAAAAAAAAAAAADNzMzMTLvUQAAAAAAAAAAAAAAAAAAAAADNzMzMnIDoQAAAAAAAAAAAAAAAAAAAAAAAAAAAcOPkQAAAAAAAAAAAAAAAAAAAAADNzMzMjBTrQAAAAAAAAAAAAAAAAAAAAAAAAAAAwEXgQAAAAAAAAAAAAAAAAAAAAACamZmZ6ZjkQAAAAAAAAAAAAAAAAAAAAAAzMzMzI33hQAAAAAAAAAAAAAAAAAAAAADNzMzM3J/mQAAAAAAAAAAAAAAAAAAAAADNzMzMjG/WQAAAAAAAAAAAAAAAAAAAAAAAAAAAoFkHQQAAAAAAAAAAAAAAAAAAAABmZmZm/nT0QAAAAAAAAAAAAAAAAAAAAACamZmZydTlQAAAAAAAAAAAAAAAAAAAAADNzMzMLKnRQAAAAAAAAAAAAAAAAAAAAAAAAAAAcGngQAAAAAAAAAAAAAAAAAAAAADNzMzMrMvVQAAAAAAAAAAAAAAAAAAAAABmZmZmJvfQQAAAAAAAAAAAAAAAAAAAAAAzMzMzs6jYQAAAAAAAAAAAAAAAAAAAAAAzMzMzc7DSQAAAAAAAAAAAAAAAAAAAAAAAAAAAwCPUQAAAAAAAAAAAAAAAAAAAAADNzMzMDEPOQAAAAAAAAAAAAAAAAAAAAADNzMzMzGDQQAAAAAAAAAAAAAAAAAAAAADNzMzMTN3YQAAAAAAAAAAAAAAAAAAAAACamZmZ2W7kQAAAAAAAAAAAAAAAAAAAAACamZmZWcfNQAAAAAAAAAAAAAAAAAAAAABmZmZmpj3XQAAAAAAAAAAA\",\"dtype\":\"float64\",\"order\":\"little\",\"shape\":[90]},\"index\":[72,73,74,84,85,86,87,88,89,90,91,92,93,94,95,99,100,101,102,103,104,108,109,110,111,112,113,117,118,119,120,121,122,132,133,134,354,355,356,531,532,533,645,646,647,648,649,650,693,694,695,696,697,698,762,763,764,954,955,956,996,997,998,1002,1003,1004,1008,1009,1010,1011,1012,1013,1092,1093,1094,1206,1207,1208,1215,1216,1217,1245,1246,1247,1311,1312,1313,1416,1417,1418],\"mz\":{\"__ndarray__\":\"hIb+CS6IX0CEhv4JLohfQISG/gkuiF9Acad0sP7HX0Bxp3Sw/sdfQHGndLD+x19AbosyG2TIX0BuizIbZMhfQG6LMhtkyF9A2uGvyRoEYEDa4a/JGgRgQNrhr8kaBGBALEgzFk0EYEAsSDMWTQRgQCxIMxZNBGBAJemayTckYEAl6ZrJNyRgQCXpmsk3JGBADM11GmkkYEAMzXUaaSRgQAzNdRppJGBA3PRnP1JEYEDc9Gc/UkRgQNz0Zz9SRGBAgc8PI4REYECBzw8jhERgQIHPDyOERGBAdc3km21kYEB1zeSbbWRgQHXN5JttZGBAKxN+qZ9kYEArE36pn2RgQCsTfqmfZGBAHLYtymwCYUActi3KbAJhQBy2LcpsAmFAliGOdXHFbECWIY51ccVsQJYhjnVxxWxABWnGommEd0AFacaiaYR3QAVpxqJphHdAZnCUvDr9fUBmcJS8Ov19QGZwlLw6/X1A/k0oREAFfkD+TShEQAV+QP5NKERABX5A3Aw34PPCgEDcDDfg88KAQNwMN+DzwoBAeR7cnfXGgEB5Htyd9caAQHke3J31xoBAYb68ADtPgkBhvrwAO0+CQGG+vAA7T4JAWUxsPq7Sh0BZTGw+rtKHQFlMbD6u0odA1/oioS0EiUDX+iKhLQSJQNf6IqEtBIlAh4px/iYMiUCHinH+JgyJQIeKcf4mDIlAozuInSkUiUCjO4idKRSJQKM7iJ0pFIlALT4FwDgciUAtPgXAOByJQC0+BcA4HIlAMzhKXl27ikAzOEpeXbuKQDM4Sl5du4pAhslUwWjBjECGyVTBaMGMQIbJVMFowYxA0XmNXWJcjUDReY1dYlyNQNF5jV1iXI1Au0kMAiv1jUC7SQwCK/WNQLtJDAIr9Y1An3HhQAiykECfceFACLKQQJ9x4UAIspBAdy0hH1RKlUB3LSEfVEqVQHctIR9USpVA\",\"dtype\":\"float64\",\"order\":\"little\",\"shape\":[90]}},\"selected\":{\"id\":\"1411\"},\"selection_policy\":{\"id\":\"1412\"}},\"id\":\"1344\",\"type\":\"ColumnDataSource\"},{\"attributes\":{},\"id\":\"1431\",\"type\":\"Selection\"},{\"attributes\":{},\"id\":\"1369\",\"type\":\"ResetTool\"},{\"attributes\":{\"label\":{\"value\":\"Unknown\"},\"renderers\":[{\"id\":\"1382\"}]},\"id\":\"1395\",\"type\":\"LegendItem\"},{\"attributes\":{\"data_source\":{\"id\":\"1344\"},\"glyph\":{\"id\":\"1397\"},\"hover_glyph\":null,\"muted_glyph\":null,\"nonselection_glyph\":{\"id\":\"1398\"},\"view\":{\"id\":\"1400\"}},\"id\":\"1399\",\"type\":\"GlyphRenderer\"},{\"attributes\":{},\"id\":\"1393\",\"type\":\"UnionRenderers\"},{\"attributes\":{},\"id\":\"1432\",\"type\":\"UnionRenderers\"},{\"attributes\":{},\"id\":\"1387\",\"type\":\"AllLabels\"},{\"attributes\":{},\"id\":\"1412\",\"type\":\"UnionRenderers\"},{\"attributes\":{\"text\":\"Precursor 939.88733, 5+\",\"text_color\":\"#a31534\",\"text_font_size\":\"10pt\",\"x\":939.88733,\"y\":177894.12},\"id\":\"1444\",\"type\":\"Label\"},{\"attributes\":{},\"id\":\"1491\",\"type\":\"Selection\"},{\"attributes\":{\"line_alpha\":0.7,\"line_color\":\"#2ca02c\",\"line_width\":2,\"x\":{\"field\":\"mz\"},\"y\":{\"field\":\"Intensity\"}},\"id\":\"1415\",\"type\":\"Line\"},{\"attributes\":{\"data_source\":{\"id\":\"1343\"},\"glyph\":{\"id\":\"1380\"},\"hover_glyph\":null,\"muted_glyph\":null,\"nonselection_glyph\":{\"id\":\"1381\"},\"view\":{\"id\":\"1383\"}},\"id\":\"1382\",\"type\":\"GlyphRenderer\"},{\"attributes\":{},\"id\":\"1358\",\"type\":\"BasicTicker\"},{\"attributes\":{},\"id\":\"1390\",\"type\":\"AllLabels\"},{\"attributes\":{\"label\":{\"value\":\"Contaminant\"},\"renderers\":[{\"id\":\"1417\"}]},\"id\":\"1433\",\"type\":\"LegendItem\"},{\"attributes\":{\"line_alpha\":0.7,\"line_color\":\"#1f77b4\",\"line_width\":2,\"x\":{\"field\":\"mz\"},\"y\":{\"field\":\"Intensity\"}},\"id\":\"1380\",\"type\":\"Line\"},{\"attributes\":{\"line_alpha\":0.1,\"line_color\":\"#ff7f0e\",\"line_width\":2,\"x\":{\"field\":\"mz\"},\"y\":{\"field\":\"Intensity\"}},\"id\":\"1398\",\"type\":\"Line\"},{\"attributes\":{},\"id\":\"1492\",\"type\":\"UnionRenderers\"},{\"attributes\":{},\"id\":\"1493\",\"type\":\"Selection\"},{\"attributes\":{\"axis\":{\"id\":\"1357\"},\"ticker\":null},\"id\":\"1360\",\"type\":\"Grid\"},{\"attributes\":{\"line_alpha\":0.7,\"line_color\":\"#ff7f0e\",\"line_width\":2,\"x\":{\"field\":\"mz\"},\"y\":{\"field\":\"Intensity\"}},\"id\":\"1397\",\"type\":\"Line\"},{\"attributes\":{},\"id\":\"1349\",\"type\":\"DataRange1d\"},{\"attributes\":{\"data\":{\"Annotation\":[\"Unknown\",\"Unknown\",\"Unknown\",\"Unknown\",\"Unknown\",\"Unknown\",\"Unknown\",\"Unknown\",\"Unknown\",\"Unknown\",\"Unknown\",\"Unknown\",\"Unknown\",\"Unknown\",\"Unknown\",\"Unknown\",\"Unknown\",\"Unknown\",\"Unknown\",\"Unknown\",\"Unknown\",\"Unknown\",\"Unknown\",\"Unknown\",\"Unknown\",\"Unknown\",\"Unknown\",\"Unknown\",\"Unknown\",\"Unknown\",\"Unknown\",\"Unknown\",\"Unknown\",\"Unknown\",\"Unknown\",\"Unknown\",\"Unknown\",\"Unknown\",\"Unknown\",\"Unknown\",\"Unknown\",\"Unknown\",\"Unknown\",\"Unknown\",\"Unknown\",\"Unknown\",\"Unknown\",\"Unknown\",\"Unknown\",\"Unknown\",\"Unknown\",\"Unknown\",\"Unknown\",\"Unknown\",\"Unknown\",\"Unknown\",\"Unknown\",\"Unknown\",\"Unknown\",\"Unknown\",\"Unknown\",\"Unknown\",\"Unknown\",\"Unknown\",\"Unknown\",\"Unknown\",\"Unknown\",\"Unknown\",\"Unknown\",\"Unknown\",\"Unknown\",\"Unknown\",\"Unknown\",\"Unknown\",\"Unknown\",\"Unknown\",\"Unknown\",\"Unknown\",\"Unknown\",\"Unknown\",\"Unknown\",\"Unknown\",\"Unknown\",\"Unknown\",\"Unknown\",\"Unknown\",\"Unknown\",\"Unknown\",\"Unknown\",\"Unknown\",\"Unknown\",\"Unknown\",\"Unknown\",\"Unknown\",\"Unknown\",\"Unknown\",\"Unknown\",\"Unknown\",\"Unknown\",\"Unknown\",\"Unknown\",\"Unknown\",\"Unknown\",\"Unknown\",\"Unknown\",\"Unknown\",\"Unknown\",\"Unknown\",\"Unknown\",\"Unknown\",\"Unknown\",\"Unknown\",\"Unknown\",\"Unknown\",\"Unknown\",\"Unknown\",\"Unknown\",\"Unknown\",\"Unknown\",\"Unknown\",\"Unknown\",\"Unknown\",\"Unknown\",\"Unknown\",\"Unknown\",\"Unknown\",\"Unknown\",\"Unknown\",\"Unknown\",\"Unknown\",\"Unknown\",\"Unknown\",\"Unknown\",\"Unknown\",\"Unknown\",\"Unknown\",\"Unknown\",\"Unknown\",\"Unknown\",\"Unknown\",\"Unknown\",\"Unknown\",\"Unknown\",\"Unknown\",\"Unknown\",\"Unknown\",\"Unknown\",\"Unknown\",\"Unknown\",\"Unknown\",\"Unknown\",\"Unknown\",\"Unknown\",\"Unknown\",\"Unknown\",\"Unknown\",\"Unknown\",\"Unknown\",\"Unknown\",\"Unknown\",\"Unknown\",\"Unknown\",\"Unknown\",\"Unknown\",\"Unknown\",\"Unknown\",\"Unknown\",\"Unknown\",\"Unknown\",\"Unknown\",\"Unknown\",\"Unknown\",\"Unknown\",\"Unknown\",\"Unknown\",\"Unknown\",\"Unknown\",\"Unknown\",\"Unknown\",\"Unknown\",\"Unknown\",\"Unknown\",\"Unknown\",\"Unknown\",\"Unknown\",\"Unknown\",\"Unknown\",\"Unknown\",\"Unknown\",\"Unknown\",\"Unknown\",\"Unknown\",\"Unknown\",\"Unknown\",\"Unknown\",\"Unknown\",\"Unknown\",\"Unknown\",\"Unknown\",\"Unknown\",\"Unknown\",\"Unknown\",\"Unknown\",\"Unknown\",\"Unknown\",\"Unknown\",\"Unknown\",\"Unknown\",\"Unknown\",\"Unknown\",\"Unknown\",\"Unknown\",\"Unknown\",\"Unknown\",\"Unknown\",\"Unknown\",\"Unknown\",\"Unknown\",\"Unknown\",\"Unknown\",\"Unknown\",\"Unknown\",\"Unknown\",\"Unknown\",\"Unknown\",\"Unknown\",\"Unknown\",\"Unknown\",\"Unknown\",\"Unknown\",\"Unknown\",\"Unknown\",\"Unknown\",\"Unknown\",\"Unknown\",\"Unknown\",\"Unknown\",\"Unknown\",\"Unknown\",\"Unknown\",\"Unknown\",\"Unknown\",\"Unknown\",\"Unknown\",\"Unknown\",\"Unknown\",\"Unknown\",\"Unknown\",\"Unknown\",\"Unknown\",\"Unknown\",\"Unknown\",\"Unknown\",\"Unknown\",\"Unknown\",\"Unknown\",\"Unknown\",\"Unknown\",\"Unknown\",\"Unknown\",\"Unknown\",\"Unknown\",\"Unknown\",\"Unknown\",\"Unknown\",\"Unknown\",\"Unknown\",\"Unknown\",\"Unknown\",\"Unknown\",\"Unknown\",\"Unknown\",\"Unknown\",\"Unknown\",\"Unknown\",\"Unknown\",\"Unknown\",\"Unknown\",\"Unknown\",\"Unknown\",\"Unknown\",\"Unknown\",\"Unknown\",\"Unknown\",\"Unknown\",\"Unknown\",\"Unknown\",\"Unknown\",\"Unknown\",\"Unknown\",\"Unknown\",\"Unknown\",\"Unknown\",\"Unknown\",\"Unknown\",\"Unknown\",\"Unknown\",\"Unknown\",\"Unknown\",\"Unknown\",\"Unknown\",\"Unknown\",\"Unknown\",\"Unknown\",\"Unknown\",\"Unknown\",\"Unknown\",\"Unknown\",\"Unknown\",\"Unknown\",\"Unknown\",\"Unknown\",\"Unknown\",\"Unknown\",\"Unknown\",\"Unknown\",\"Unknown\",\"Unknown\",\"Unknown\",\"Unknown\",\"Unknown\",\"Unknown\",\"Unknown\",\"Unknown\",\"Unknown\",\"Unknown\",\"Unknown\",\"Unknown\",\"Unknown\",\"Unknown\",\"Unknown\",\"Unknown\",\"Unknown\",\"Unknown\",\"Unknown\",\"Unknown\",\"Unknown\",\"Unknown\",\"Unknown\",\"Unknown\",\"Unknown\",\"Unknown\",\"Unknown\",\"Unknown\",\"Unknown\",\"Unknown\",\"Unknown\",\"Unknown\",\"Unknown\",\"Unknown\",\"Unknown\",\"Unknown\",\"Unknown\",\"Unknown\",\"Unknown\",\"Unknown\",\"Unknown\",\"Unknown\",\"Unknown\",\"Unknown\",\"Unknown\",\"Unknown\",\"Unknown\",\"Unknown\",\"Unknown\",\"Unknown\",\"Unknown\",\"Unknown\",\"Unknown\",\"Unknown\",\"Unknown\",\"Unknown\",\"Unknown\",\"Unknown\",\"Unknown\",\"Unknown\",\"Unknown\",\"Unknown\",\"Unknown\",\"Unknown\",\"Unknown\",\"Unknown\",\"Unknown\",\"Unknown\",\"Unknown\",\"Unknown\",\"Unknown\",\"Unknown\",\"Unknown\",\"Unknown\",\"Unknown\",\"Unknown\",\"Unknown\",\"Unknown\",\"Unknown\",\"Unknown\",\"Unknown\",\"Unknown\",\"Unknown\",\"Unknown\",\"Unknown\",\"Unknown\",\"Unknown\",\"Unknown\",\"Unknown\",\"Unknown\",\"Unknown\",\"Unknown\",\"Unknown\",\"Unknown\",\"Unknown\",\"Unknown\",\"Unknown\",\"Unknown\",\"Unknown\",\"Unknown\",\"Unknown\",\"Unknown\",\"Unknown\",\"Unknown\",\"Unknown\",\"Unknown\",\"Unknown\",\"Unknown\",\"Unknown\",\"Unknown\",\"Unknown\",\"Unknown\",\"Unknown\",\"Unknown\",\"Unknown\",\"Unknown\",\"Unknown\",\"Unknown\",\"Unknown\",\"Unknown\",\"Unknown\",\"Unknown\",\"Unknown\",\"Unknown\",\"Unknown\",\"Unknown\",\"Unknown\",\"Unknown\",\"Unknown\",\"Unknown\",\"Unknown\",\"Unknown\",\"Unknown\",\"Unknown\",\"Unknown\",\"Unknown\",\"Unknown\",\"Unknown\",\"Unknown\",\"Unknown\",\"Unknown\",\"Unknown\",\"Unknown\",\"Unknown\",\"Unknown\",\"Unknown\",\"Unknown\",\"Unknown\",\"Unknown\",\"Unknown\",\"Unknown\",\"Unknown\",\"Unknown\",\"Unknown\",\"Unknown\",\"Unknown\",\"Unknown\",\"Unknown\",\"Unknown\",\"Unknown\",\"Unknown\",\"Unknown\",\"Unknown\",\"Unknown\",\"Unknown\",\"Unknown\",\"Unknown\",\"Unknown\",\"Unknown\",\"Unknown\",\"Unknown\",\"Unknown\",\"Unknown\",\"Unknown\",\"Unknown\",\"Unknown\",\"Unknown\",\"Unknown\",\"Unknown\",\"Unknown\",\"Unknown\",\"Unknown\",\"Unknown\",\"Unknown\",\"Unknown\",\"Unknown\",\"Unknown\",\"Unknown\",\"Unknown\",\"Unknown\",\"Unknown\",\"Unknown\",\"Unknown\",\"Unknown\",\"Unknown\",\"Unknown\",\"Unknown\",\"Unknown\",\"Unknown\",\"Unknown\",\"Unknown\",\"Unknown\",\"Unknown\",\"Unknown\",\"Unknown\",\"Unknown\",\"Unknown\",\"Unknown\",\"Unknown\",\"Unknown\",\"Unknown\",\"Unknown\",\"Unknown\",\"Unknown\",\"Unknown\",\"Unknown\",\"Unknown\",\"Unknown\",\"Unknown\",\"Unknown\",\"Unknown\",\"Unknown\",\"Unknown\",\"Unknown\",\"Unknown\",\"Unknown\",\"Unknown\",\"Unknown\",\"Unknown\",\"Unknown\",\"Unknown\",\"Unknown\",\"Unknown\",\"Unknown\",\"Unknown\",\"Unknown\",\"Unknown\",\"Unknown\",\"Unknown\",\"Unknown\",\"Unknown\",\"Unknown\",\"Unknown\",\"Unknown\",\"Unknown\",\"Unknown\",\"Unknown\",\"Unknown\",\"Unknown\",\"Unknown\",\"Unknown\",\"Unknown\",\"Unknown\",\"Unknown\",\"Unknown\",\"Unknown\",\"Unknown\",\"Unknown\",\"Unknown\",\"Unknown\",\"Unknown\",\"Unknown\",\"Unknown\",\"Unknown\",\"Unknown\",\"Unknown\",\"Unknown\",\"Unknown\",\"Unknown\",\"Unknown\",\"Unknown\",\"Unknown\",\"Unknown\",\"Unknown\",\"Unknown\",\"Unknown\",\"Unknown\",\"Unknown\",\"Unknown\",\"Unknown\",\"Unknown\",\"Unknown\",\"Unknown\",\"Unknown\",\"Unknown\",\"Unknown\",\"Unknown\",\"Unknown\",\"Unknown\",\"Unknown\",\"Unknown\",\"Unknown\",\"Unknown\",\"Unknown\",\"Unknown\",\"Unknown\",\"Unknown\",\"Unknown\",\"Unknown\",\"Unknown\",\"Unknown\",\"Unknown\",\"Unknown\",\"Unknown\",\"Unknown\",\"Unknown\",\"Unknown\",\"Unknown\",\"Unknown\",\"Unknown\",\"Unknown\",\"Unknown\",\"Unknown\",\"Unknown\",\"Unknown\",\"Unknown\",\"Unknown\",\"Unknown\",\"Unknown\",\"Unknown\",\"Unknown\",\"Unknown\",\"Unknown\",\"Unknown\",\"Unknown\",\"Unknown\",\"Unknown\",\"Unknown\",\"Unknown\",\"Unknown\",\"Unknown\",\"Unknown\",\"Unknown\",\"Unknown\",\"Unknown\",\"Unknown\",\"Unknown\",\"Unknown\",\"Unknown\",\"Unknown\",\"Unknown\",\"Unknown\",\"Unknown\",\"Unknown\",\"Unknown\",\"Unknown\",\"Unknown\",\"Unknown\",\"Unknown\",\"Unknown\",\"Unknown\",\"Unknown\",\"Unknown\",\"Unknown\",\"Unknown\",\"Unknown\",\"Unknown\",\"Unknown\",\"Unknown\",\"Unknown\",\"Unknown\",\"Unknown\",\"Unknown\",\"Unknown\",\"Unknown\",\"Unknown\",\"Unknown\",\"Unknown\",\"Unknown\",\"Unknown\",\"Unknown\",\"Unknown\",\"Unknown\",\"Unknown\",\"Unknown\",\"Unknown\",\"Unknown\",\"Unknown\",\"Unknown\",\"Unknown\",\"Unknown\",\"Unknown\",\"Unknown\",\"Unknown\",\"Unknown\",\"Unknown\",\"Unknown\",\"Unknown\",\"Unknown\",\"Unknown\",\"Unknown\",\"Unknown\",\"Unknown\",\"Unknown\",\"Unknown\",\"Unknown\",\"Unknown\",\"Unknown\",\"Unknown\",\"Unknown\",\"Unknown\",\"Unknown\",\"Unknown\",\"Unknown\",\"Unknown\",\"Unknown\",\"Unknown\",\"Unknown\",\"Unknown\",\"Unknown\",\"Unknown\",\"Unknown\",\"Unknown\",\"Unknown\",\"Unknown\",\"Unknown\",\"Unknown\",\"Unknown\",\"Unknown\",\"Unknown\",\"Unknown\",\"Unknown\",\"Unknown\",\"Unknown\",\"Unknown\",\"Unknown\",\"Unknown\",\"Unknown\",\"Unknown\",\"Unknown\",\"Unknown\",\"Unknown\",\"Unknown\",\"Unknown\",\"Unknown\",\"Unknown\",\"Unknown\",\"Unknown\",\"Unknown\",\"Unknown\",\"Unknown\",\"Unknown\",\"Unknown\",\"Unknown\",\"Unknown\",\"Unknown\",\"Unknown\",\"Unknown\",\"Unknown\",\"Unknown\",\"Unknown\",\"Unknown\",\"Unknown\",\"Unknown\",\"Unknown\",\"Unknown\",\"Unknown\",\"Unknown\",\"Unknown\",\"Unknown\",\"Unknown\",\"Unknown\",\"Unknown\",\"Unknown\",\"Unknown\",\"Unknown\",\"Unknown\",\"Unknown\",\"Unknown\",\"Unknown\",\"Unknown\",\"Unknown\",\"Unknown\",\"Unknown\",\"Unknown\",\"Unknown\",\"Unknown\",\"Unknown\",\"Unknown\",\"Unknown\",\"Unknown\",\"Unknown\",\"Unknown\",\"Unknown\",\"Unknown\",\"Unknown\",\"Unknown\",\"Unknown\",\"Unknown\",\"Unknown\",\"Unknown\",\"Unknown\",\"Unknown\",\"Unknown\",\"Unknown\",\"Unknown\",\"Unknown\",\"Unknown\",\"Unknown\",\"Unknown\",\"Unknown\",\"Unknown\",\"Unknown\",\"Unknown\",\"Unknown\",\"Unknown\",\"Unknown\",\"Unknown\",\"Unknown\",\"Unknown\",\"Unknown\",\"Unknown\",\"Unknown\",\"Unknown\",\"Unknown\",\"Unknown\",\"Unknown\",\"Unknown\",\"Unknown\",\"Unknown\",\"Unknown\",\"Unknown\",\"Unknown\",\"Unknown\",\"Unknown\",\"Unknown\",\"Unknown\",\"Unknown\",\"Unknown\",\"Unknown\",\"Unknown\",\"Unknown\",\"Unknown\",\"Unknown\",\"Unknown\",\"Unknown\",\"Unknown\",\"Unknown\",\"Unknown\",\"Unknown\",\"Unknown\",\"Unknown\",\"Unknown\",\"Unknown\",\"Unknown\",\"Unknown\",\"Unknown\",\"Unknown\",\"Unknown\",\"Unknown\",\"Unknown\",\"Unknown\",\"Unknown\",\"Unknown\",\"Unknown\",\"Unknown\",\"Unknown\",\"Unknown\",\"Unknown\",\"Unknown\",\"Unknown\",\"Unknown\",\"Unknown\",\"Unknown\",\"Unknown\",\"Unknown\",\"Unknown\",\"Unknown\",\"Unknown\",\"Unknown\",\"Unknown\",\"Unknown\",\"Unknown\",\"Unknown\",\"Unknown\",\"Unknown\",\"Unknown\",\"Unknown\",\"Unknown\",\"Unknown\",\"Unknown\",\"Unknown\",\"Unknown\",\"Unknown\",\"Unknown\",\"Unknown\",\"Unknown\",\"Unknown\",\"Unknown\",\"Unknown\",\"Unknown\",\"Unknown\",\"Unknown\",\"Unknown\",\"Unknown\",\"Unknown\",\"Unknown\",\"Unknown\",\"Unknown\",\"Unknown\",\"Unknown\",\"Unknown\",\"Unknown\",\"Unknown\",\"Unknown\",\"Unknown\",\"Unknown\",\"Unknown\",\"Unknown\",\"Unknown\",\"Unknown\",\"Unknown\",\"Unknown\",\"Unknown\",\"Unknown\",\"Unknown\",\"Unknown\",\"Unknown\",\"Unknown\",\"Unknown\",\"Unknown\",\"Unknown\",\"Unknown\",\"Unknown\",\"Unknown\",\"Unknown\",\"Unknown\",\"Unknown\",\"Unknown\",\"Unknown\",\"Unknown\",\"Unknown\",\"Unknown\",\"Unknown\",\"Unknown\",\"Unknown\",\"Unknown\",\"Unknown\",\"Unknown\",\"Unknown\",\"Unknown\",\"Unknown\",\"Unknown\",\"Unknown\",\"Unknown\",\"Unknown\",\"Unknown\",\"Unknown\",\"Unknown\",\"Unknown\",\"Unknown\",\"Unknown\",\"Unknown\",\"Unknown\",\"Unknown\",\"Unknown\",\"Unknown\",\"Unknown\",\"Unknown\",\"Unknown\",\"Unknown\",\"Unknown\",\"Unknown\",\"Unknown\",\"Unknown\",\"Unknown\",\"Unknown\",\"Unknown\",\"Unknown\",\"Unknown\",\"Unknown\",\"Unknown\",\"Unknown\",\"Unknown\",\"Unknown\",\"Unknown\",\"Unknown\",\"Unknown\",\"Unknown\",\"Unknown\",\"Unknown\",\"Unknown\",\"Unknown\",\"Unknown\",\"Unknown\",\"Unknown\",\"Unknown\",\"Unknown\",\"Unknown\",\"Unknown\",\"Unknown\",\"Unknown\",\"Unknown\",\"Unknown\",\"Unknown\",\"Unknown\",\"Unknown\",\"Unknown\",\"Unknown\",\"Unknown\",\"Unknown\",\"Unknown\",\"Unknown\",\"Unknown\",\"Unknown\",\"Unknown\",\"Unknown\",\"Unknown\",\"Unknown\",\"Unknown\",\"Unknown\",\"Unknown\",\"Unknown\",\"Unknown\",\"Unknown\",\"Unknown\",\"Unknown\",\"Unknown\",\"Unknown\",\"Unknown\",\"Unknown\",\"Unknown\",\"Unknown\",\"Unknown\",\"Unknown\",\"Unknown\",\"Unknown\",\"Unknown\",\"Unknown\",\"Unknown\",\"Unknown\",\"Unknown\",\"Unknown\",\"Unknown\",\"Unknown\",\"Unknown\",\"Unknown\",\"Unknown\",\"Unknown\",\"Unknown\",\"Unknown\",\"Unknown\",\"Unknown\",\"Unknown\",\"Unknown\",\"Unknown\",\"Unknown\",\"Unknown\",\"Unknown\",\"Unknown\",\"Unknown\",\"Unknown\",\"Unknown\",\"Unknown\",\"Unknown\",\"Unknown\",\"Unknown\",\"Unknown\",\"Unknown\",\"Unknown\",\"Unknown\",\"Unknown\",\"Unknown\",\"Unknown\",\"Unknown\",\"Unknown\",\"Unknown\",\"Unknown\",\"Unknown\",\"Unknown\",\"Unknown\",\"Unknown\",\"Unknown\",\"Unknown\",\"Unknown\",\"Unknown\",\"Unknown\",\"Unknown\",\"Unknown\",\"Unknown\",\"Unknown\",\"Unknown\",\"Unknown\",\"Unknown\",\"Unknown\",\"Unknown\",\"Unknown\",\"Unknown\",\"Unknown\",\"Unknown\",\"Unknown\",\"Unknown\",\"Unknown\",\"Unknown\",\"Unknown\",\"Unknown\",\"Unknown\",\"Unknown\",\"Unknown\",\"Unknown\",\"Unknown\",\"Unknown\",\"Unknown\",\"Unknown\",\"Unknown\",\"Unknown\",\"Unknown\",\"Unknown\",\"Unknown\",\"Unknown\",\"Unknown\",\"Unknown\",\"Unknown\",\"Unknown\",\"Unknown\",\"Unknown\",\"Unknown\",\"Unknown\",\"Unknown\",\"Unknown\",\"Unknown\",\"Unknown\",\"Unknown\",\"Unknown\",\"Unknown\",\"Unknown\",\"Unknown\",\"Unknown\",\"Unknown\",\"Unknown\",\"Unknown\",\"Unknown\",\"Unknown\",\"Unknown\",\"Unknown\",\"Unknown\",\"Unknown\",\"Unknown\",\"Unknown\",\"Unknown\",\"Unknown\",\"Unknown\",\"Unknown\",\"Unknown\",\"Unknown\",\"Unknown\",\"Unknown\",\"Unknown\",\"Unknown\",\"Unknown\",\"Unknown\",\"Unknown\",\"Unknown\",\"Unknown\",\"Unknown\",\"Unknown\",\"Unknown\",\"Unknown\",\"Unknown\",\"Unknown\",\"Unknown\",\"Unknown\",\"Unknown\",\"Unknown\",\"Unknown\",\"Unknown\",\"Unknown\",\"Unknown\",\"Unknown\",\"Unknown\",\"Unknown\",\"Unknown\",\"Unknown\",\"Unknown\",\"Unknown\",\"Unknown\",\"Unknown\",\"Unknown\",\"Unknown\",\"Unknown\",\"Unknown\",\"Unknown\",\"Unknown\",\"Unknown\",\"Unknown\",\"Unknown\",\"Unknown\",\"Unknown\",\"Unknown\",\"Unknown\",\"Unknown\",\"Unknown\",\"Unknown\",\"Unknown\",\"Unknown\",\"Unknown\",\"Unknown\",\"Unknown\",\"Unknown\",\"Unknown\",\"Unknown\",\"Unknown\",\"Unknown\",\"Unknown\",\"Unknown\",\"Unknown\",\"Unknown\",\"Unknown\",\"Unknown\",\"Unknown\",\"Unknown\",\"Unknown\",\"Unknown\",\"Unknown\",\"Unknown\",\"Unknown\",\"Unknown\",\"Unknown\",\"Unknown\",\"Unknown\",\"Unknown\",\"Unknown\",\"Unknown\",\"Unknown\",\"Unknown\",\"Unknown\",\"Unknown\",\"Unknown\",\"Unknown\",\"Unknown\",\"Unknown\",\"Unknown\",\"Unknown\",\"Unknown\",\"Unknown\",\"Unknown\",\"Unknown\",\"Unknown\",\"Unknown\",\"Unknown\",\"Unknown\",\"Unknown\",\"Unknown\",\"Unknown\",\"Unknown\",\"Unknown\",\"Unknown\",\"Unknown\",\"Unknown\",\"Unknown\",\"Unknown\",\"Unknown\",\"Unknown\",\"Unknown\",\"Unknown\",\"Unknown\",\"Unknown\",\"Unknown\",\"Unknown\",\"Unknown\",\"Unknown\",\"Unknown\",\"Unknown\",\"Unknown\",\"Unknown\",\"Unknown\",\"Unknown\",\"Unknown\",\"Unknown\",\"Unknown\",\"Unknown\",\"Unknown\",\"Unknown\",\"Unknown\",\"Unknown\",\"Unknown\",\"Unknown\",\"Unknown\",\"Unknown\",\"Unknown\",\"Unknown\",\"Unknown\",\"Unknown\",\"Unknown\",\"Unknown\",\"Unknown\",\"Unknown\",\"Unknown\",\"Unknown\",\"Unknown\",\"Unknown\",\"Unknown\",\"Unknown\",\"Unknown\",\"Unknown\",\"Unknown\",\"Unknown\",\"Unknown\",\"Unknown\",\"Unknown\",\"Unknown\",\"Unknown\",\"Unknown\",\"Unknown\"],\"Intensity\":{\"__ndarray__\":\"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\",\"dtype\":\"float64\",\"order\":\"little\",\"shape\":[1320]},\"index\":[0,1,2,3,4,5,6,7,8,9,10,11,12,13,14,15,16,17,18,19,20,21,22,23,24,25,26,27,28,29,30,31,32,33,34,35,36,37,38,39,40,41,42,43,44,45,46,47,48,49,50,51,52,53,54,55,56,57,58,59,60,61,62,63,64,65,66,67,68,69,70,71,75,76,77,78,79,80,81,82,83,96,97,98,105,106,107,114,115,116,123,124,125,126,127,128,129,130,131,135,136,137,138,139,140,141,142,143,144,145,146,147,148,149,150,151,152,153,154,155,156,157,158,159,160,161,162,163,164,165,166,167,168,169,170,171,172,173,174,175,176,177,178,179,180,181,182,183,184,185,186,187,188,189,190,191,192,193,194,195,196,197,198,199,200,201,202,203,204,205,206,207,208,209,210,211,212,213,214,215,216,217,218,219,220,221,222,223,224,225,226,227,228,229,230,231,232,233,234,235,236,237,238,239,243,244,245,246,247,248,249,250,251,252,253,254,258,259,260,261,262,263,264,265,266,267,268,269,270,271,272,273,274,275,276,277,278,279,280,281,282,283,284,285,286,287,288,289,290,291,292,293,294,295,296,297,298,299,300,301,302,306,307,308,309,310,311,312,313,314,315,316,317,318,319,320,321,322,323,324,325,326,327,328,329,330,331,332,333,334,335,336,337,338,339,340,341,342,343,344,345,346,347,348,349,350,351,352,353,357,358,359,360,361,362,363,364,365,366,367,368,369,370,371,372,373,374,375,376,377,378,379,380,381,382,383,384,385,386,387,388,389,390,391,392,393,394,395,396,397,398,399,400,401,402,403,404,405,406,407,408,409,410,411,412,413,414,415,416,417,418,419,420,421,422,423,424,425,426,427,428,429,430,431,432,433,434,435,436,437,438,439,440,441,442,443,444,445,446,447,448,449,450,451,452,453,454,455,456,457,458,459,460,461,462,463,464,465,466,467,468,469,470,474,475,476,477,478,479,480,481,482,483,484,485,486,487,488,489,490,491,492,493,494,495,496,497,498,499,500,501,502,503,504,505,506,507,508,509,510,511,512,513,514,515,516,517,518,519,520,521,522,523,524,525,526,527,528,529,530,534,535,536,537,538,539,540,541,542,543,544,545,546,547,548,549,550,551,552,553,554,555,556,557,558,559,560,561,562,563,564,565,566,567,568,569,570,571,572,573,574,575,576,577,578,579,580,581,582,583,584,585,586,587,588,589,590,591,592,593,594,595,596,597,598,599,600,601,602,603,604,605,606,607,608,609,610,611,612,613,614,615,616,617,618,619,620,621,622,623,624,625,626,627,628,629,630,631,632,633,634,635,636,637,638,639,640,641,642,643,644,651,652,653,654,655,656,657,658,659,660,661,662,663,664,665,666,667,668,669,670,671,672,673,674,675,676,677,678,679,680,681,682,683,684,685,686,687,688,689,690,691,692,699,700,701,702,703,704,705,706,707,708,709,710,711,712,713,714,715,716,717,718,719,720,721,722,723,724,725,726,727,728,729,730,731,732,733,734,735,736,737,738,739,740,741,742,743,744,745,746,747,748,749,750,751,752,753,754,755,756,757,758,759,760,761,765,766,767,768,769,770,771,772,773,774,775,776,777,778,779,780,781,782,783,784,785,786,787,788,792,793,794,795,796,797,798,799,800,801,802,803,804,805,806,807,808,809,810,811,812,813,814,815,816,817,818,819,820,821,822,823,824,825,826,827,828,829,830,831,832,833,834,835,836,837,838,839,840,841,842,843,844,845,846,847,848,849,850,851,852,853,854,855,856,857,858,859,860,861,862,863,864,865,866,867,868,869,870,871,872,873,874,875,876,877,878,879,880,881,882,883,884,885,886,887,888,889,890,891,892,893,894,895,896,897,898,899,900,901,902,903,904,905,906,907,908,909,910,911,912,913,914,915,916,917,918,919,920,921,922,923,924,925,926,927,928,929,930,931,932,933,934,935,936,937,938,939,940,941,942,943,944,945,946,947,948,949,950,951,952,953,957,958,959,960,961,962,963,964,965,966,967,968,969,970,971,972,973,974,975,976,977,978,979,980,981,982,983,984,985,986,987,988,989,990,991,992,993,994,995,999,1000,1001,1005,1006,1007,1014,1015,1016,1020,1021,1022,1023,1024,1025,1026,1027,1028,1029,1030,1031,1032,1033,1034,1035,1036,1037,1038,1039,1040,1041,1042,1043,1044,1045,1046,1047,1048,1049,1050,1051,1052,1053,1054,1055,1056,1057,1058,1059,1060,1061,1062,1063,1064,1065,1066,1067,1068,1069,1070,1071,1072,1073,1074,1075,1076,1077,1078,1079,1080,1081,1082,1083,1084,1085,1086,1087,1088,1089,1090,1091,1095,1096,1097,1098,1099,1100,1101,1102,1103,1104,1105,1106,1107,1108,1109,1110,1111,1112,1113,1114,1115,1116,1117,1118,1119,1120,1121,1122,1123,1124,1125,1126,1127,1128,1129,1130,1131,1132,1133,1134,1135,1136,1137,1138,1139,1140,1141,1142,1143,1144,1145,1146,1147,1148,1149,1150,1151,1152,1153,1154,1155,1156,1157,1158,1159,1160,1161,1162,1163,1164,1165,1166,1167,1168,1169,1170,1171,1172,1173,1174,1175,1176,1177,1178,1179,1180,1181,1182,1183,1184,1185,1186,1187,1188,1189,1190,1191,1192,1193,1197,1198,1199,1200,1201,1202,1203,1204,1205,1209,1210,1211,1212,1213,1214,1218,1219,1220,1221,1222,1223,1224,1225,1226,1227,1228,1229,1230,1231,1232,1233,1234,1235,1236,1237,1238,1239,1240,1241,1242,1243,1244,1248,1249,1250,1251,1252,1253,1254,1255,1256,1257,1258,1259,1260,1261,1262,1263,1264,1265,1266,1267,1268,1269,1270,1271,1272,1273,1274,1275,1276,1277,1278,1279,1280,1281,1282,1283,1284,1285,1286,1287,1288,1289,1290,1291,1292,1293,1294,1295,1296,1297,1298,1299,1300,1301,1302,1303,1304,1305,1306,1307,1308,1309,1310,1314,1315,1316,1317,1318,1319,1320,1321,1322,1323,1324,1325,1326,1327,1328,1329,1330,1331,1332,1333,1334,1335,1336,1337,1338,1339,1340,1341,1342,1343,1344,1345,1346,1347,1348,1349,1350,1351,1352,1353,1354,1355,1356,1357,1358,1359,1360,1361,1362,1363,1364,1365,1366,1367,1368,1369,1370,1371,1372,1373,1374,1375,1376,1377,1378,1379,1380,1381,1382,1383,1384,1385,1386,1387,1388,1389,1390,1391,1392,1393,1394,1395,1396,1397,1398,1399,1400,1401,1402,1403,1404,1405,1406,1407,1408,1409,1410,1411,1412,1413,1414,1415,1419,1420,1421,1422,1423,1424,1425,1426,1427,1428,1429,1430],\"mz\":{\"__ndarray__\":\"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\",\"dtype\":\"float64\",\"order\":\"little\",\"shape\":[1320]}},\"selected\":{\"id\":\"1392\"},\"selection_policy\":{\"id\":\"1393\"}},\"id\":\"1343\",\"type\":\"ColumnDataSource\"},{\"attributes\":{\"source\":{\"id\":\"1344\"}},\"id\":\"1400\",\"type\":\"CDSView\"},{\"attributes\":{\"source\":{\"id\":\"1345\"}},\"id\":\"1418\",\"type\":\"CDSView\"},{\"attributes\":{\"line_alpha\":0.1,\"line_color\":\"#2ca02c\",\"line_width\":2,\"x\":{\"field\":\"mz\"},\"y\":{\"field\":\"Intensity\"}},\"id\":\"1416\",\"type\":\"Line\"},{\"attributes\":{\"label\":{\"value\":\"Identified\"},\"renderers\":[{\"id\":\"1399\"}]},\"id\":\"1413\",\"type\":\"LegendItem\"},{\"attributes\":{\"line_alpha\":0.1,\"line_color\":\"#1f77b4\",\"line_width\":2,\"x\":{\"field\":\"mz\"},\"y\":{\"field\":\"Intensity\"}},\"id\":\"1381\",\"type\":\"Line\"},{\"attributes\":{\"source\":{\"id\":\"1434\"}},\"id\":\"1438\",\"type\":\"CDSView\"},{\"attributes\":{\"bottom_units\":\"screen\",\"fill_alpha\":0.5,\"fill_color\":\"lightgrey\",\"left_units\":\"screen\",\"level\":\"overlay\",\"line_alpha\":1.0,\"line_color\":\"black\",\"line_dash\":[4,4],\"line_width\":2,\"right_units\":\"screen\",\"syncable\":false,\"top_units\":\"screen\"},\"id\":\"1370\",\"type\":\"BoxAnnotation\"},{\"attributes\":{\"data_source\":{\"id\":\"1345\"},\"glyph\":{\"id\":\"1415\"},\"hover_glyph\":null,\"muted_glyph\":null,\"nonselection_glyph\":{\"id\":\"1416\"},\"view\":{\"id\":\"1418\"}},\"id\":\"1417\",\"type\":\"GlyphRenderer\"},{\"attributes\":{\"line_alpha\":0.5,\"line_color\":\"#a31534\",\"line_dash\":[6],\"line_width\":4,\"x\":{\"field\":\"x\"},\"y\":{\"field\":\"y\"}},\"id\":\"1440\",\"type\":\"Line\"},{\"attributes\":{},\"id\":\"1494\",\"type\":\"UnionRenderers\"},{\"attributes\":{},\"id\":\"1351\",\"type\":\"DataRange1d\"},{\"attributes\":{\"line_color\":\"#1f77b4\",\"line_width\":3,\"x\":{\"field\":\"x\"},\"y\":{\"field\":\"y\"}},\"id\":\"1435\",\"type\":\"Line\"},{\"attributes\":{},\"id\":\"1353\",\"type\":\"LinearScale\"},{\"attributes\":{\"axis_label\":\"Fragment m/z\",\"axis_label_text_font_size\":\"10pt\",\"formatter\":{\"id\":\"1388\"},\"major_label_policy\":{\"id\":\"1390\"},\"major_label_text_font_size\":\"9pt\",\"ticker\":{\"id\":\"1358\"}},\"id\":\"1357\",\"type\":\"LinearAxis\"},{\"attributes\":{\"data\":{\"x\":[101.0709,1791.8223899999998],\"y\":[0,0]},\"selected\":{\"id\":\"1491\"},\"selection_policy\":{\"id\":\"1492\"}},\"id\":\"1434\",\"type\":\"ColumnDataSource\"},{\"attributes\":{\"text\":\"Peptide Fragmentation Mass Spectrum\"},\"id\":\"1347\",\"type\":\"Title\"},{\"attributes\":{\"data_source\":{\"id\":\"1434\"},\"glyph\":{\"id\":\"1435\"},\"hover_glyph\":null,\"muted_glyph\":null,\"nonselection_glyph\":{\"id\":\"1436\"},\"view\":{\"id\":\"1438\"}},\"id\":\"1437\",\"type\":\"GlyphRenderer\"},{\"attributes\":{\"source\":{\"id\":\"1439\"}},\"id\":\"1443\",\"type\":\"CDSView\"},{\"attributes\":{\"source\":{\"id\":\"1343\"}},\"id\":\"1383\",\"type\":\"CDSView\"},{\"attributes\":{\"active_multi\":null,\"tools\":[{\"id\":\"1365\"},{\"id\":\"1366\"},{\"id\":\"1367\"},{\"id\":\"1368\"},{\"id\":\"1369\"},{\"id\":\"1371\"}]},\"id\":\"1372\",\"type\":\"Toolbar\"},{\"attributes\":{\"data\":{\"x\":[939.88733,939.88733],\"y\":[0,172155.6]},\"selected\":{\"id\":\"1493\"},\"selection_policy\":{\"id\":\"1494\"}},\"id\":\"1439\",\"type\":\"ColumnDataSource\"},{\"attributes\":{},\"id\":\"1392\",\"type\":\"Selection\"},{\"attributes\":{\"data\":{\"Annotation\":[\"Contaminant\",\"Contaminant\",\"Contaminant\",\"Contaminant\",\"Contaminant\",\"Contaminant\",\"Contaminant\",\"Contaminant\",\"Contaminant\",\"Contaminant\",\"Contaminant\",\"Contaminant\",\"Contaminant\",\"Contaminant\",\"Contaminant\",\"Contaminant\",\"Contaminant\",\"Contaminant\",\"Contaminant\",\"Contaminant\",\"Contaminant\"],\"Intensity\":{\"__ndarray__\":\"AAAAAAAAAACamZmZmcnUQAAAAAAAAAAAAAAAAAAAAADXo3A96t3BQAAAAAAAAAAAAAAAAAAAAAApXI/CNVK0QAAAAAAAAAAAAAAAAAAAAADsUbgexRi7QAAAAAAAAAAAAAAAAAAAAADsUbgeRbe4QAAAAAAAAAAAAAAAAAAAAADNzMzM7ELVQAAAAAAAAAAAAAAAAAAAAABmZmZmJm3eQAAAAAAAAAAA\",\"dtype\":\"float64\",\"order\":\"little\",\"shape\":[21]},\"index\":[240,241,242,255,256,257,303,304,305,471,472,473,789,790,791,1017,1018,1019,1194,1195,1196],\"mz\":{\"__ndarray__\":\"H7+36c/jZUAfv7fpz+NlQB+/t+nP42VAKPIk6ZrCZkAo8iTpmsJmQCjyJOmawmZAFAX6RJ7kaEAUBfpEnuRoQBQF+kSe5GhABCFZwIQDdEAEIVnAhAN0QAQhWcCEA3RAsacd/hrLgkCxpx3+GsuCQLGnHf4ay4JArp6T3jckiUCunpPeNySJQK6ek943JIlAsOYAwVydjECw5gDBXJ2MQLDmAMFcnYxA\",\"dtype\":\"float64\",\"order\":\"little\",\"shape\":[21]}},\"selected\":{\"id\":\"1431\"},\"selection_policy\":{\"id\":\"1432\"}},\"id\":\"1345\",\"type\":\"ColumnDataSource\"},{\"attributes\":{\"line_alpha\":0.1,\"line_color\":\"#a31534\",\"line_dash\":[6],\"line_width\":4,\"x\":{\"field\":\"x\"},\"y\":{\"field\":\"y\"}},\"id\":\"1441\",\"type\":\"Line\"},{\"attributes\":{},\"id\":\"1355\",\"type\":\"LinearScale\"},{\"attributes\":{\"line_alpha\":0.1,\"line_color\":\"#1f77b4\",\"line_width\":3,\"x\":{\"field\":\"x\"},\"y\":{\"field\":\"y\"}},\"id\":\"1436\",\"type\":\"Line\"}],\"root_ids\":[\"1346\"]},\"title\":\"Bokeh Application\",\"version\":\"2.3.1\"}};\n",
       "  var render_items = [{\"docid\":\"013ef899-6836-49ce-8749-4b90f0119671\",\"root_ids\":[\"1346\"],\"roots\":{\"1346\":\"3591c9ba-2bdb-41b8-9774-51b6a31bacbb\"}}];\n",
       "  root.Bokeh.embed.embed_items_notebook(docs_json, render_items);\n",
       "\n",
       "  }\n",
       "  if (root.Bokeh !== undefined) {\n",
       "    embed_document(root);\n",
       "  } else {\n",
       "    var attempts = 0;\n",
       "    var timer = setInterval(function(root) {\n",
       "      if (root.Bokeh !== undefined) {\n",
       "        clearInterval(timer);\n",
       "        embed_document(root);\n",
       "      } else {\n",
       "        attempts++;\n",
       "        if (attempts > 100) {\n",
       "          clearInterval(timer);\n",
       "          console.log(\"Bokeh: ERROR: Unable to run BokehJS code because BokehJS library is missing\");\n",
       "        }\n",
       "      }\n",
       "    }, 10, root)\n",
       "  }\n",
       "})(window);"
      ],
      "application/vnd.bokehjs_exec.v0+json": ""
     },
     "metadata": {
      "application/vnd.bokehjs_exec.v0+json": {
       "id": "1346"
      }
     },
     "output_type": "display_data"
    }
   ],
   "source": [
    "#output_file('msms_tmt_spectrum_Cat.html')\n",
    "mainTitle = 'Peptide Fragmentation Mass Spectrum'\n",
    "#Number of categories\n",
    "ncat = len( dfA['Annotation'].unique() )\n",
    "#Create a separate ColumnDataSource for each categorical value\n",
    "sources = []\n",
    "\n",
    "for idx, cat in enumerate( dfA2['Annotation'].unique() ):\n",
    "    sources.append(\n",
    "        (\n",
    "            idx, cat,\n",
    "            ColumnDataSource(\n",
    "                data=dfA2[\n",
    "                    dfA2['Annotation'] == cat\n",
    "                ]\n",
    "            )\n",
    "        )\n",
    "    )\n",
    "print(sources)\n",
    "\n",
    "p = create_p()\n",
    "\n",
    "maxIntens = df2['Intensity'].max()\n",
    "\n",
    "for idxColor, cat, cds in sources:\n",
    "    #If there are more than 10 categories, the colors will start to rotate\n",
    "    idxColor = idxColor % 10\n",
    "    p.line(\n",
    "        'mz', 'Intensity',\n",
    "        source = cds,\n",
    "        color = Category10[10][idxColor],\n",
    "        line_width = 2, alpha = 0.7,\n",
    "        legend_label=cat\n",
    "    )\n",
    "#Add the baseline to make the look cleaner \n",
    "p.line(\n",
    "    x = [ dfA2['mz'].min(), dfA2['mz'].max() ],\n",
    "    y = [0, 0],\n",
    "    color = Category10[10][0],\n",
    "    line_width = 3\n",
    ")\n",
    "p.legend.location = 'top_right'\n",
    "p.legend.click_policy = 'hide'\n",
    "p.legend.title = 'Signal Type'\n",
    "#Add the precursor info as a dashed line with a label\n",
    "p.line(\n",
    "    [precMZ, precMZ], [0, maxIntens*0.9],\n",
    "    line_dash = 'dashed', line_width = 4,\n",
    "    color = '#a31534', alpha = 0.5,\n",
    "    )\n",
    "p.add_layout(\n",
    "    Label(\n",
    "        x = precMZ, y = maxIntens*0.93,\n",
    "        text = f'Precursor {precMZ}, {precCh}+',\n",
    "        text_font_size = '10pt',\n",
    "        text_color = '#a31534'\n",
    "        )\n",
    "    )\n",
    "\n",
    "#Format the axis labels\n",
    "p.xaxis.axis_label = 'Fragment m/z'\n",
    "p.xaxis.axis_label_text_font_size = '10pt'\n",
    "p.xaxis.major_label_text_font_size = '9pt'\n",
    "\n",
    "p.yaxis.axis_label = 'Intensity'\n",
    "p.yaxis.axis_label_text_font_size = '10pt'\n",
    "p.yaxis.major_label_text_font_size = '9pt'\n",
    "p.yaxis.formatter = NumeralTickFormatter(format='0.')\n",
    "\n",
    "show(p)"
   ]
  },
  {
   "cell_type": "code",
   "execution_count": null,
   "metadata": {},
   "outputs": [],
   "source": []
  }
 ],
 "metadata": {
  "kernelspec": {
   "display_name": "Python 3",
   "language": "python",
   "name": "python3"
  },
  "language_info": {
   "codemirror_mode": {
    "name": "ipython",
    "version": 3
   },
   "file_extension": ".py",
   "mimetype": "text/x-python",
   "name": "python",
   "nbconvert_exporter": "python",
   "pygments_lexer": "ipython3",
   "version": "3.8.5"
  }
 },
 "nbformat": 4,
 "nbformat_minor": 4
}
